{
 "cells": [
  {
   "cell_type": "markdown",
   "id": "cfa5348c",
   "metadata": {},
   "source": [
    "# Python core\n",
    "\n",
    "In this section, we will review intermediate Python concepts. This chapter is intended for readers who already have a little programming experience in Python, we assume you're beginning to be comfortable with the basics such as variables, loops, and functions, classes, object-oriented-programming. We will focus on concepts that are less trivial but highly relevant, especially in professional environments and technical interviews for Python or finance-related roles.\n",
    "\n",
    "__________________________________________________________________________________________________"
   ]
  },
  {
   "cell_type": "markdown",
   "id": "487c0752",
   "metadata": {},
   "source": [
    "### Arguments\n",
    "\n",
    "Python has two types of arguments: positional arguments and keyword arguments, often denoted as `*args` and `**kwargs`.\n",
    "\n",
    "- `*args` collects extra positional arguments into a tuple.\n",
    "- `**kwargs` collects extra keyword arguments into a dictionary.\n"
   ]
  },
  {
   "cell_type": "code",
   "execution_count": 15,
   "id": "1bab50da",
   "metadata": {},
   "outputs": [
    {
     "name": "stdout",
     "output_type": "stream",
     "text": [
      "6\n",
      "name: Alice\n",
      "age: 30\n"
     ]
    }
   ],
   "source": [
    "def sum_all(*args):\n",
    "    return sum(args)\n",
    "\n",
    "print(sum_all(1, 2, 3))  # returns 6\n",
    "\n",
    "def print_info(**kwargs):\n",
    "    for key, value in kwargs.items():\n",
    "        print(f\"{key}: {value}\")\n",
    "\n",
    "print_info(name=\"Alice\", age=30)"
   ]
  },
  {
   "cell_type": "markdown",
   "id": "90554d9a",
   "metadata": {},
   "source": [
    "### Isinstance\n",
    "\n",
    "The `isinstance()` function checks if an object is an instance of a class or a tuple of classes. It helps with type checking and avoiding runtime errors.\n"
   ]
  },
  {
   "cell_type": "code",
   "execution_count": 16,
   "id": "b8d8e36d",
   "metadata": {},
   "outputs": [
    {
     "name": "stdout",
     "output_type": "stream",
     "text": [
      "True\n",
      "True\n",
      "False\n"
     ]
    }
   ],
   "source": [
    "x = 10\n",
    "print(isinstance(x, int))\n",
    "print(isinstance(x, (int, float)))\n",
    "print(isinstance(x, str))"
   ]
  },
  {
   "cell_type": "code",
   "execution_count": 17,
   "id": "1dc320e8",
   "metadata": {},
   "outputs": [
    {
     "name": "stdout",
     "output_type": "stream",
     "text": [
      "True\n",
      "True\n"
     ]
    }
   ],
   "source": [
    "class Animal:\n",
    "    pass\n",
    "\n",
    "class Dog(Animal):\n",
    "    pass\n",
    "\n",
    "dog = Dog()\n",
    "print(isinstance(dog, Dog))\n",
    "print(isinstance(dog, Animal))"
   ]
  },
  {
   "cell_type": "markdown",
   "id": "1ce10bce",
   "metadata": {},
   "source": [
    "### Comprehensions\n",
    "\n",
    "Comprehensions provide a concise and readable way to create collections such as lists, dictionaries, and sets by embedding a loop and optional conditional logic inside a single expression.\n",
    "\n",
    "List comprehensions generate lists:"
   ]
  },
  {
   "cell_type": "code",
   "execution_count": 18,
   "id": "5abbd614",
   "metadata": {},
   "outputs": [
    {
     "name": "stdout",
     "output_type": "stream",
     "text": [
      "[0, 4, 16, 36, 64]\n"
     ]
    }
   ],
   "source": [
    "squares = [x**2 for x in range(10) if x % 2 == 0]\n",
    "print(squares)"
   ]
  },
  {
   "cell_type": "markdown",
   "id": "8a88b1e5",
   "metadata": {},
   "source": [
    "Dict comprehensions build dictionaries similarly:\n"
   ]
  },
  {
   "cell_type": "code",
   "execution_count": 11,
   "id": "5edc28bd",
   "metadata": {},
   "outputs": [
    {
     "name": "stdout",
     "output_type": "stream",
     "text": [
      "{0: 0, 1: 1, 2: 4, 3: 9, 4: 16}\n"
     ]
    }
   ],
   "source": [
    "square_dict = {x: x**2 for x in range(5)}\n",
    "print(square_dict)"
   ]
  },
  {
   "cell_type": "markdown",
   "id": "35eb3e23",
   "metadata": {},
   "source": [
    "Note that overly complex comprehensions can harm readability and maintainability. A regular loop can be clearer."
   ]
  },
  {
   "cell_type": "code",
   "execution_count": 13,
   "id": "72f8407a",
   "metadata": {},
   "outputs": [
    {
     "name": "stdout",
     "output_type": "stream",
     "text": [
      "['Odd:3', '16', '36', 'Odd:7', '64', 'Odd:9']\n"
     ]
    }
   ],
   "source": [
    "result = [str(x**2) if x % 2 == 0 else f\"Odd:{x}\" for x in range(10) if x > 2 and x != 5]\n",
    "print(result)"
   ]
  },
  {
   "cell_type": "markdown",
   "id": "7569f471",
   "metadata": {},
   "source": [
    "### Iterators and Generators\n",
    "\n",
    "Python uses iterators to allow objects to be traversed one element at a time, enabling efficient looping over large or complex data structures. Generators are a convenient way to create iterators using the `yield` keyword, which produces values lazily, pausing and resuming execution as needed."
   ]
  },
  {
   "cell_type": "code",
   "execution_count": 19,
   "id": "42184295",
   "metadata": {},
   "outputs": [
    {
     "name": "stdout",
     "output_type": "stream",
     "text": [
      "1\n",
      "2\n",
      "3\n"
     ]
    }
   ],
   "source": [
    "class CountUpTo:\n",
    "    def __init__(self, max):\n",
    "        self.max = max\n",
    "        self.current = 0\n",
    "\n",
    "    def __iter__(self):\n",
    "        return self\n",
    "\n",
    "    def __next__(self):\n",
    "        if self.current >= self.max:\n",
    "            raise StopIteration\n",
    "        self.current += 1\n",
    "        return self.current\n",
    "\n",
    "counter = CountUpTo(3)\n",
    "for number in counter:\n",
    "    print(number)"
   ]
  },
  {
   "cell_type": "markdown",
   "id": "578bd086",
   "metadata": {},
   "source": [
    "Creating generators with `yield` simplifies iterator creation by automatically handling state.\n"
   ]
  },
  {
   "cell_type": "code",
   "execution_count": 20,
   "id": "955a7962",
   "metadata": {},
   "outputs": [
    {
     "name": "stdout",
     "output_type": "stream",
     "text": [
      "1\n",
      "2\n",
      "3\n"
     ]
    }
   ],
   "source": [
    "def count_up_to(max):\n",
    "    current = 1\n",
    "    while current <= max:\n",
    "        yield current\n",
    "        current += 1\n",
    "\n",
    "for number in count_up_to(3):\n",
    "    print(number)"
   ]
  },
  {
   "cell_type": "markdown",
   "id": "daac48f5",
   "metadata": {},
   "source": [
    "### Decorators\n",
    "\n",
    "Functions are first-class objects, which means they can be assigned to variables, passed as arguments, and returned from other functions. This feature enables decorators, which are functions that take another function and extend or modify its behavior without changing its source code.\n"
   ]
  },
  {
   "cell_type": "code",
   "execution_count": 21,
   "id": "507ed113",
   "metadata": {},
   "outputs": [
    {
     "name": "stdout",
     "output_type": "stream",
     "text": [
      "Hello!\n"
     ]
    }
   ],
   "source": [
    "def greet():\n",
    "    print(\"Hello!\")\n",
    "\n",
    "say_hello = greet\n",
    "say_hello()"
   ]
  },
  {
   "cell_type": "code",
   "execution_count": 22,
   "id": "e53caba7",
   "metadata": {},
   "outputs": [
    {
     "name": "stdout",
     "output_type": "stream",
     "text": [
      "Before function call\n",
      "Hello!\n",
      "After function call\n"
     ]
    }
   ],
   "source": [
    "def decorator(func):\n",
    "    def wrapper():\n",
    "        print(\"Before function call\")\n",
    "        func()\n",
    "        print(\"After function call\")\n",
    "    return wrapper\n",
    "\n",
    "@decorator\n",
    "def greet():\n",
    "    print(\"Hello!\")\n",
    "\n",
    "greet()"
   ]
  },
  {
   "cell_type": "markdown",
   "id": "03c0dc77",
   "metadata": {},
   "source": [
    "Practical example: a Timer decorator that measures the runtime of function calls."
   ]
  },
  {
   "cell_type": "code",
   "execution_count": 23,
   "id": "e5cb8330",
   "metadata": {},
   "outputs": [
    {
     "name": "stdout",
     "output_type": "stream",
     "text": [
      "waste_time took 0.0523 seconds\n"
     ]
    }
   ],
   "source": [
    "import time\n",
    "\n",
    "def timer(func):\n",
    "    def wrapper(*args, **kwargs):\n",
    "        start = time.time()\n",
    "        result = func(*args, **kwargs)\n",
    "        end = time.time()\n",
    "        runtime = end - start\n",
    "        print(f\"{func.__name__} took {runtime:.4f} seconds\")\n",
    "        return result\n",
    "    return wrapper\n",
    "\n",
    "@timer\n",
    "def waste_time():\n",
    "    for _ in range(10**6):\n",
    "        pass\n",
    "\n",
    "waste_time()"
   ]
  },
  {
   "cell_type": "markdown",
   "id": "814f3e90",
   "metadata": {},
   "source": [
    "### Object-Oriented Programming\n",
    "\n",
    "OOP in Python enables structuring code using classes and objects. It supports concepts like inheritance, encapsulation, and polymorphism to model real-world entities.\n"
   ]
  },
  {
   "cell_type": "code",
   "execution_count": 24,
   "id": "56bf74af",
   "metadata": {},
   "outputs": [
    {
     "name": "stdout",
     "output_type": "stream",
     "text": [
      "Woof!\n"
     ]
    }
   ],
   "source": [
    "class Animal:\n",
    "    def speak(self):\n",
    "        print(\"Some generic sound\")\n",
    "\n",
    "class Dog(Animal):\n",
    "    def speak(self):\n",
    "        print(\"Woof!\")\n",
    "\n",
    "dog = Dog()\n",
    "dog.speak()"
   ]
  },
  {
   "cell_type": "code",
   "execution_count": 25,
   "id": "830ccf22",
   "metadata": {},
   "outputs": [
    {
     "name": "stdout",
     "output_type": "stream",
     "text": [
      "Person(name=Alice, age=30)\n"
     ]
    }
   ],
   "source": [
    "class Person:\n",
    "    def __init__(self, name, age):\n",
    "        self.name = name\n",
    "        self.age = age\n",
    "    \n",
    "    def __repr__(self):\n",
    "        return f\"Person(name={self.name}, age={self.age})\"\n",
    "\n",
    "p = Person(\"Alice\", 30)\n",
    "print(p)"
   ]
  },
  {
   "cell_type": "code",
   "execution_count": 31,
   "id": "a99a3b17",
   "metadata": {},
   "outputs": [
    {
     "name": "stdout",
     "output_type": "stream",
     "text": [
      "Car 1 attributes:  4 red\n",
      "Car 2 attributes:  4 blue\n",
      "Car1 wheels:  3\n",
      "Car2 wheels:  3\n"
     ]
    }
   ],
   "source": [
    "class Car:\n",
    "    wheels = 4  # class variable\n",
    "\n",
    "    def __init__(self, color):\n",
    "        self.color = color  # instance variable\n",
    "\n",
    "car1 = Car(\"red\")\n",
    "car2 = Car(\"blue\")\n",
    "\n",
    "print(\"Car 1 attributes: \", car1.wheels, car1.color)\n",
    "print(\"Car 2 attributes: \", car2.wheels, car2.color)\n",
    "\n",
    "Car.wheels = 3\n",
    "\n",
    "print(\"Car1 wheels: \", car1.wheels)\n",
    "print(\"Car2 wheels: \", car2.wheels)"
   ]
  },
  {
   "cell_type": "code",
   "execution_count": 32,
   "id": "b0131337",
   "metadata": {},
   "outputs": [
    {
     "name": "stdout",
     "output_type": "stream",
     "text": [
      "['__class__', '__delattr__', '__dir__', '__doc__', '__eq__', '__format__', '__ge__', '__getattribute__', '__gt__', '__hash__', '__init__', '__init_subclass__', '__le__', '__lt__', '__ne__', '__new__', '__reduce__', '__reduce_ex__', '__repr__', '__setattr__', '__sizeof__', '__str__', '__subclasshook__']\n"
     ]
    }
   ],
   "source": [
    "print(dir(object))"
   ]
  },
  {
   "cell_type": "markdown",
   "id": "d6c0d166",
   "metadata": {},
   "source": [
    "### Functional Programming Tools\n",
    "\n",
    "Python supports several functional programming constructs that allow concise and expressive manipulation of data."
   ]
  },
  {
   "cell_type": "code",
   "execution_count": 34,
   "id": "1fdc6724",
   "metadata": {},
   "outputs": [
    {
     "name": "stdout",
     "output_type": "stream",
     "text": [
      "[1, 4, 9, 16]\n",
      "[2, 4]\n",
      "10\n"
     ]
    }
   ],
   "source": [
    "from functools import reduce\n",
    "\n",
    "nums = [1, 2, 3, 4]\n",
    "\n",
    "squared = list(map(lambda x: x**2, nums))\n",
    "evens = list(filter(lambda x: x % 2 == 0, nums))\n",
    "sum_all = reduce(lambda a, b: a + b, nums)\n",
    "\n",
    "print(squared)\n",
    "print(evens)\n",
    "print(sum_all)"
   ]
  },
  {
   "cell_type": "code",
   "execution_count": 35,
   "id": "89daeace",
   "metadata": {},
   "outputs": [
    {
     "name": "stdout",
     "output_type": "stream",
     "text": [
      "8\n"
     ]
    }
   ],
   "source": [
    "add = lambda x, y: x + y\n",
    "print(add(3, 5))"
   ]
  },
  {
   "cell_type": "code",
   "execution_count": 36,
   "id": "ce2cea94",
   "metadata": {},
   "outputs": [
    {
     "name": "stdout",
     "output_type": "stream",
     "text": [
      "55\n",
      "15\n"
     ]
    }
   ],
   "source": [
    "from functools import lru_cache, partial\n",
    "\n",
    "@lru_cache(maxsize=None)\n",
    "def fibonacci(n):\n",
    "    if n < 2:\n",
    "        return n\n",
    "    return fibonacci(n-1) + fibonacci(n-2)\n",
    "\n",
    "add_five = partial(lambda x, y: x + y, 5)\n",
    "print(fibonacci(10))\n",
    "print(add_five(10))"
   ]
  },
  {
   "cell_type": "markdown",
   "id": "9381b494",
   "metadata": {},
   "source": [
    "### Exception Handling\n",
    "\n",
    "Python provides a robust mechanism to handle runtime errors through try/except blocks, allowing programs to recover gracefully or clean up resources.\n"
   ]
  },
  {
   "cell_type": "code",
   "execution_count": 37,
   "id": "74ef625a",
   "metadata": {},
   "outputs": [
    {
     "name": "stdout",
     "output_type": "stream",
     "text": [
      "Cannot divide by zero.\n",
      "Execution completed.\n"
     ]
    }
   ],
   "source": [
    "try:\n",
    "    result = 10 / 0\n",
    "except ZeroDivisionError:\n",
    "    print(\"Cannot divide by zero.\")\n",
    "else:\n",
    "    print(f\"Result is {result}\")\n",
    "finally:\n",
    "    print(\"Execution completed.\")"
   ]
  },
  {
   "cell_type": "code",
   "execution_count": 38,
   "id": "1a60ad6b",
   "metadata": {},
   "outputs": [
    {
     "name": "stdout",
     "output_type": "stream",
     "text": [
      "Not enough balance\n"
     ]
    }
   ],
   "source": [
    "class InsufficientFunds(Exception):\n",
    "    pass\n",
    "\n",
    "def withdraw(amount, balance):\n",
    "    if amount > balance:\n",
    "        raise InsufficientFunds(\"Not enough balance\")\n",
    "    return balance - amount\n",
    "\n",
    "try:\n",
    "    withdraw(100, 50)\n",
    "except InsufficientFunds as e:\n",
    "    print(e)"
   ]
  },
  {
   "cell_type": "markdown",
   "id": "0c55e11f",
   "metadata": {},
   "source": [
    "## Context Managers\n",
    "\n",
    "Context managers in Python simplify resource management by ensuring setup and cleanup actions are executed automatically, typically using the `with` statement.\n"
   ]
  },
  {
   "cell_type": "code",
   "execution_count": 39,
   "id": "9990ca95",
   "metadata": {},
   "outputs": [
    {
     "ename": "FileNotFoundError",
     "evalue": "[Errno 2] No such file or directory: 'data.txt'",
     "output_type": "error",
     "traceback": [
      "\u001b[0;31m---------------------------------------------------------------------------\u001b[0m",
      "\u001b[0;31mFileNotFoundError\u001b[0m                         Traceback (most recent call last)",
      "\u001b[0;32m/var/folders/23/1ny30znd3rngz83z0yc20wg80000gn/T/ipykernel_3320/1152479182.py\u001b[0m in \u001b[0;36m<module>\u001b[0;34m\u001b[0m\n\u001b[0;32m----> 1\u001b[0;31m \u001b[0;32mwith\u001b[0m \u001b[0mopen\u001b[0m\u001b[0;34m(\u001b[0m\u001b[0;34m\"data.txt\"\u001b[0m\u001b[0;34m,\u001b[0m \u001b[0;34m\"r\"\u001b[0m\u001b[0;34m)\u001b[0m \u001b[0;32mas\u001b[0m \u001b[0mfile\u001b[0m\u001b[0;34m:\u001b[0m\u001b[0;34m\u001b[0m\u001b[0;34m\u001b[0m\u001b[0m\n\u001b[0m\u001b[1;32m      2\u001b[0m     \u001b[0mcontents\u001b[0m \u001b[0;34m=\u001b[0m \u001b[0mfile\u001b[0m\u001b[0;34m.\u001b[0m\u001b[0mread\u001b[0m\u001b[0;34m(\u001b[0m\u001b[0;34m)\u001b[0m\u001b[0;34m\u001b[0m\u001b[0;34m\u001b[0m\u001b[0m\n\u001b[1;32m      3\u001b[0m \u001b[0;34m\u001b[0m\u001b[0m\n\u001b[1;32m      4\u001b[0m \u001b[0mprint\u001b[0m\u001b[0;34m(\u001b[0m\u001b[0mfile\u001b[0m\u001b[0;34m.\u001b[0m\u001b[0mclosed\u001b[0m\u001b[0;34m)\u001b[0m\u001b[0;34m\u001b[0m\u001b[0;34m\u001b[0m\u001b[0m\n",
      "\u001b[0;31mFileNotFoundError\u001b[0m: [Errno 2] No such file or directory: 'data.txt'"
     ]
    }
   ],
   "source": [
    "# That won't work if we have no 'data.txt' file in the directory...\n",
    "with open(\"data.txt\", \"r\") as file:\n",
    "    contents = file.read()\n",
    "\n",
    "print(file.closed)"
   ]
  },
  {
   "cell_type": "code",
   "execution_count": null,
   "id": "45a1c921",
   "metadata": {},
   "outputs": [],
   "source": []
  }
 ],
 "metadata": {
  "kernelspec": {
   "display_name": "Python 3 (ipykernel)",
   "language": "python",
   "name": "python3"
  },
  "language_info": {
   "codemirror_mode": {
    "name": "ipython",
    "version": 3
   },
   "file_extension": ".py",
   "mimetype": "text/x-python",
   "name": "python",
   "nbconvert_exporter": "python",
   "pygments_lexer": "ipython3",
   "version": "3.9.7"
  }
 },
 "nbformat": 4,
 "nbformat_minor": 5
}

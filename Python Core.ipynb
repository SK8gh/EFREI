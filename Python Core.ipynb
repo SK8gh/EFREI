{
 "cells": [
  {
   "cell_type": "markdown",
   "id": "4dbb4e9b",
   "metadata": {},
   "source": [
    "# Python Core\n",
    "\n",
    "In this file, we will review intermediate Python concepts. This chapter is intended for readers who already have a little programming experience in Python, we assume you're beginning to be comfortable with the basics such as variables, loops, and functions, classes, object-oriented-programming. We will focus on concepts that are less trivial but highly relevant, especially in professional environments and technical interviews for Python or finance-related roles.\n",
    "\n",
    "The following notions will be discussed : arguments, isinstance, comprehensions, iterators & generators, decorators, OOP, functionnal programming tools, exceptions handling, context managers, typing\n",
    "__________________________________________________________________________________________________"
   ]
  },
  {
   "cell_type": "markdown",
   "id": "61628e79",
   "metadata": {},
   "source": [
    "### Arguments\n",
    "\n",
    "Python has two types of arguments: positional arguments and keyword arguments, often denoted as `*args` and `**kwargs`.\n",
    "\n",
    "- `*args` This notation is used to pass a variable number of positional argu-\n",
    "ments to a function. It collects any extra unnamed arguments into a tuple.\n",
    "This is useful when you’re not sure how many inputs your function will receive.\n",
    "\n",
    "- `**kwargs` allows a function to accept any number of keyword arguments (i.e., named arguments). These are collected into a dictionary."
   ]
  },
  {
   "cell_type": "code",
   "execution_count": 66,
   "id": "423d414f",
   "metadata": {},
   "outputs": [
    {
     "name": "stdout",
     "output_type": "stream",
     "text": [
      "Args sum:  6\n",
      "name: Alice\n",
      "age: 30\n"
     ]
    }
   ],
   "source": [
    "def sum_all(*args):\n",
    "    return sum(args)\n",
    "\n",
    "print(\"Args sum: \", sum_all(1, 2, 3))\n",
    "\n",
    "def print_info(**kwargs):\n",
    "    for key, value in kwargs.items():\n",
    "        print(f\"{key}: {value}\")\n",
    "\n",
    "print_info(name=\"Alice\", age=30)"
   ]
  },
  {
   "cell_type": "markdown",
   "id": "1e91c963",
   "metadata": {},
   "source": [
    "### Isinstance\n",
    "\n",
    "The `isinstance()` function in Python is used to check if an object is an\n",
    "instance of a specified class or a tuple of classes. It returns True if the object\n",
    "matches the given type(s), and False otherwise. This function is particularly\n",
    "useful for type checking and ensuring that variables have the expected data type\n",
    "before performing operations on them, which helps to avoid runtime errors.\n"
   ]
  },
  {
   "cell_type": "code",
   "execution_count": 42,
   "id": "2273263a",
   "metadata": {},
   "outputs": [
    {
     "name": "stdout",
     "output_type": "stream",
     "text": [
      "True\n",
      "True\n",
      "False\n"
     ]
    }
   ],
   "source": [
    "x = 10\n",
    "print(isinstance(x, int))\n",
    "print(isinstance(x, (int, float)))\n",
    "print(isinstance(x, str))"
   ]
  },
  {
   "cell_type": "code",
   "execution_count": 43,
   "id": "14bb258a",
   "metadata": {},
   "outputs": [
    {
     "name": "stdout",
     "output_type": "stream",
     "text": [
      "True\n",
      "True\n"
     ]
    }
   ],
   "source": [
    "class Animal:\n",
    "    pass\n",
    "\n",
    "class Dog(Animal):\n",
    "    pass\n",
    "\n",
    "dog = Dog()\n",
    "print(isinstance(dog, Dog))\n",
    "print(isinstance(dog, Animal))"
   ]
  },
  {
   "cell_type": "markdown",
   "id": "a2a29d17",
   "metadata": {},
   "source": [
    "### Comprehensions\n",
    "\n",
    "Comprehensions provide a concise and readable way to create collections such as lists, dictionaries, and sets by embedding a loop and optional conditional logic inside a single expression. They generally allow clearer and more efficient code compared to traditional loops. Closely related are generator expressions, which create iterators that generate items lazily, making them memory-efficient for large datasets.\n",
    "\n",
    "List comprehensions generate lists:"
   ]
  },
  {
   "cell_type": "code",
   "execution_count": 44,
   "id": "ca1b97c3",
   "metadata": {},
   "outputs": [
    {
     "name": "stdout",
     "output_type": "stream",
     "text": [
      "[0, 4, 16, 36, 64]\n"
     ]
    }
   ],
   "source": [
    "squares = [x**2 for x in range(10) if x % 2 == 0]\n",
    "print(squares)"
   ]
  },
  {
   "cell_type": "markdown",
   "id": "20e76b58",
   "metadata": {},
   "source": [
    "Dict comprehensions build dictionaries similarly:\n"
   ]
  },
  {
   "cell_type": "code",
   "execution_count": 45,
   "id": "ddd7712a",
   "metadata": {},
   "outputs": [
    {
     "name": "stdout",
     "output_type": "stream",
     "text": [
      "{0: 0, 1: 1, 2: 4, 3: 9, 4: 16}\n"
     ]
    }
   ],
   "source": [
    "square_dict = {x: x**2 for x in range(5)}\n",
    "print(square_dict)"
   ]
  },
  {
   "cell_type": "markdown",
   "id": "f947b2d0",
   "metadata": {},
   "source": [
    "Note that overly complex comprehensions can harm readability and maintainability. A regular loop can be clearer."
   ]
  },
  {
   "cell_type": "code",
   "execution_count": 46,
   "id": "e2a5eb08",
   "metadata": {},
   "outputs": [
    {
     "name": "stdout",
     "output_type": "stream",
     "text": [
      "['Odd:3', '16', '36', 'Odd:7', '64', 'Odd:9']\n"
     ]
    }
   ],
   "source": [
    "result = [str(x**2) if x % 2 == 0 else f\"Odd:{x}\" for x in range(10) if x > 2 and x != 5]\n",
    "print(result)"
   ]
  },
  {
   "cell_type": "markdown",
   "id": "245a0a4f",
   "metadata": {},
   "source": [
    "### Iterators and Generators\n",
    "\n",
    "Python uses the iterators to allow objects to be traversed one element at a time, enabling efficient looping over large or complex data structures. Generators are a convenient way to create iterators using the `yield` keyword, which produces values lazily, pausing and resuming execution as needed. This makes generators ideal for data pipelines and lazy evaluation, where processing large datasets incrementally reduces memory consumption.\n",
    "\n",
    "*The Iterator Protocol* requires an object to implement `__iter__()` returning an iterator, and `__next__()` to get the next item or raise `StopIteration`."
   ]
  },
  {
   "cell_type": "code",
   "execution_count": 47,
   "id": "98c918f7",
   "metadata": {},
   "outputs": [
    {
     "name": "stdout",
     "output_type": "stream",
     "text": [
      "1\n",
      "2\n",
      "3\n"
     ]
    }
   ],
   "source": [
    "class CountUpTo:\n",
    "    def __init__(self, max):\n",
    "        self.max = max\n",
    "        self.current = 0\n",
    "\n",
    "    def __iter__(self):\n",
    "        return self\n",
    "\n",
    "    def __next__(self):\n",
    "        if self.current >= self.max:\n",
    "            raise StopIteration\n",
    "        self.current += 1\n",
    "        return self.current\n",
    "\n",
    "counter = CountUpTo(3)\n",
    "for number in counter:\n",
    "    print(number)"
   ]
  },
  {
   "cell_type": "markdown",
   "id": "77ade0b1",
   "metadata": {},
   "source": [
    "Creating generators with `yield` simplifies iterator creation by automatically handling state. These concepts are especially useful in data pipelines, where generators allow processing large data streams incrementally without loading everything into memory.\n"
   ]
  },
  {
   "cell_type": "code",
   "execution_count": 48,
   "id": "7c639afe",
   "metadata": {},
   "outputs": [
    {
     "name": "stdout",
     "output_type": "stream",
     "text": [
      "1\n",
      "2\n",
      "3\n"
     ]
    }
   ],
   "source": [
    "def count_up_to(max):\n",
    "    current = 1\n",
    "    while current <= max:\n",
    "        yield current\n",
    "        current += 1\n",
    "\n",
    "for number in count_up_to(3):\n",
    "    print(number)"
   ]
  },
  {
   "cell_type": "markdown",
   "id": "4bff6683",
   "metadata": {},
   "source": [
    "### Decorators\n",
    "\n",
    "Functions are first-class objects, which means they can be assigned to vari-\n",
    "ables, passed as arguments, and returned from other functions. This feature\n",
    "enables decorators, which are functions that take another function and extend\n",
    "or modify its behavior without changing its source code.\n"
   ]
  },
  {
   "cell_type": "code",
   "execution_count": 49,
   "id": "0a164377",
   "metadata": {},
   "outputs": [
    {
     "name": "stdout",
     "output_type": "stream",
     "text": [
      "Hello!\n"
     ]
    }
   ],
   "source": [
    "def greet():\n",
    "    print(\"Hello!\")\n",
    "\n",
    "say_hello = greet\n",
    "say_hello()"
   ]
  },
  {
   "cell_type": "code",
   "execution_count": 50,
   "id": "702a06f8",
   "metadata": {},
   "outputs": [
    {
     "name": "stdout",
     "output_type": "stream",
     "text": [
      "Before function call\n",
      "Hello!\n",
      "After function call\n"
     ]
    }
   ],
   "source": [
    "def decorator(func):\n",
    "    def wrapper():\n",
    "        print(\"Before function call\")\n",
    "        func()\n",
    "        print(\"After function call\")\n",
    "    return wrapper\n",
    "\n",
    "@decorator\n",
    "def greet():\n",
    "    print(\"Hello!\")\n",
    "\n",
    "greet()"
   ]
  },
  {
   "cell_type": "markdown",
   "id": "9d6c00b7",
   "metadata": {},
   "source": [
    "Let’s write a practical example in the following context: Maybe functions\n",
    "are implement in an application I built, and I would like to print the runtime of\n",
    "function calls. One solution consists in modifying each function I implemented\n",
    "to do se. Another solution is to implement a Timer decorator."
   ]
  },
  {
   "cell_type": "code",
   "execution_count": 51,
   "id": "7d53b140",
   "metadata": {},
   "outputs": [
    {
     "name": "stdout",
     "output_type": "stream",
     "text": [
      "waste_time took 0.0708 seconds\n"
     ]
    }
   ],
   "source": [
    "import time\n",
    "\n",
    "def timer(func):\n",
    "    def wrapper(*args, **kwargs):\n",
    "        start = time.time()\n",
    "        result = func(*args, **kwargs)\n",
    "        end = time.time()\n",
    "        runtime = end - start\n",
    "        print(f\"{func.__name__} took {runtime:.4f} seconds\")\n",
    "        return result\n",
    "    return wrapper\n",
    "\n",
    "@timer\n",
    "def waste_time():\n",
    "    for _ in range(10**6):\n",
    "        pass\n",
    "\n",
    "waste_time()"
   ]
  },
  {
   "cell_type": "markdown",
   "id": "0ab107bc",
   "metadata": {},
   "source": [
    "### Object-Oriented Programming\n",
    "\n",
    "OOP in Python enables structuring code using classes and objects. It sup-\n",
    "ports concepts like inheritance, encapsulation, and polymorphism to model real-\n",
    "world entities.\n"
   ]
  },
  {
   "cell_type": "code",
   "execution_count": 52,
   "id": "1e24c0c2",
   "metadata": {},
   "outputs": [
    {
     "name": "stdout",
     "output_type": "stream",
     "text": [
      "Woof!\n"
     ]
    }
   ],
   "source": [
    "class Animal:\n",
    "    def speak(self):\n",
    "        print(\"Some generic sound\")\n",
    "\n",
    "class Dog(Animal):\n",
    "    def speak(self):\n",
    "        print(\"Woof!\")\n",
    "\n",
    "dog = Dog()\n",
    "dog.speak()"
   ]
  },
  {
   "cell_type": "markdown",
   "id": "4096b161",
   "metadata": {},
   "source": [
    "Special methods allow customizing class behavior. For example, `__init__` initializes objects, and `__repr__` defines the official string representation."
   ]
  },
  {
   "cell_type": "code",
   "execution_count": 53,
   "id": "cf52824b",
   "metadata": {},
   "outputs": [
    {
     "name": "stdout",
     "output_type": "stream",
     "text": [
      "Person(name=Alice, age=30)\n"
     ]
    }
   ],
   "source": [
    "class Person:\n",
    "    def __init__(self, name, age):\n",
    "        self.name = name\n",
    "        self.age = age\n",
    "    \n",
    "    def __repr__(self):\n",
    "        return f\"Person(name={self.name}, age={self.age})\"\n",
    "\n",
    "p = Person(\"Alice\", 30)\n",
    "print(p)"
   ]
  },
  {
   "cell_type": "markdown",
   "id": "15b8fcfa",
   "metadata": {},
   "source": [
    "Instance variables belong to individual objects, while class variables are\n",
    "shared among all instances of a class."
   ]
  },
  {
   "cell_type": "code",
   "execution_count": 54,
   "id": "eb7b5859",
   "metadata": {},
   "outputs": [
    {
     "name": "stdout",
     "output_type": "stream",
     "text": [
      "Car 1 attributes:  4 red\n",
      "Car 2 attributes:  4 blue\n",
      "Car1 wheels:  3\n",
      "Car2 wheels:  3\n"
     ]
    }
   ],
   "source": [
    "class Car:\n",
    "    wheels = 4  # class variable\n",
    "\n",
    "    def __init__(self, color):\n",
    "        self.color = color  # instance variable\n",
    "\n",
    "car1 = Car(\"red\")\n",
    "car2 = Car(\"blue\")\n",
    "\n",
    "print(\"Car 1 attributes: \", car1.wheels, car1.color)\n",
    "print(\"Car 2 attributes: \", car2.wheels, car2.color)\n",
    "\n",
    "Car.wheels = 3\n",
    "\n",
    "print(\"Car1 wheels: \", car1.wheels)\n",
    "print(\"Car2 wheels: \", car2.wheels)"
   ]
  },
  {
   "cell_type": "markdown",
   "id": "8a25ae9b",
   "metadata": {},
   "source": [
    "In Python, the built-in function `dir()` allows you to list the attributes and methods of any object. This is useful to explore what capabilities an object has, including methods inherited from parent classes.\n",
    "\n",
    "For example, all classes in Python implicitly inherit from the base `object` class, which provides fundamental methods such as `__init__`, `__repr__`, `__eq__`, and `__hash__`."
   ]
  },
  {
   "cell_type": "code",
   "execution_count": 55,
   "id": "3aa1a3b4",
   "metadata": {},
   "outputs": [
    {
     "name": "stdout",
     "output_type": "stream",
     "text": [
      "['__class__', '__delattr__', '__dir__', '__doc__', '__eq__', '__format__', '__ge__', '__getattribute__', '__gt__', '__hash__', '__init__', '__init_subclass__', '__le__', '__lt__', '__ne__', '__new__', '__reduce__', '__reduce_ex__', '__repr__', '__setattr__', '__sizeof__', '__str__', '__subclasshook__']\n"
     ]
    }
   ],
   "source": [
    "print(dir(object))"
   ]
  },
  {
   "cell_type": "markdown",
   "id": "da7206db",
   "metadata": {},
   "source": [
    "These methods define basic behavior for all Python objects, such as object\n",
    "creation, comparison, string representation, and attribute access. I highly en-\n",
    "courage you to play with those methods, try to re-implement them and figure\n",
    "out as precisely as possible what their functioning is."
   ]
  },
  {
   "cell_type": "markdown",
   "id": "d4e04442",
   "metadata": {},
   "source": [
    "### Functional Programming Tools\n",
    "\n",
    "Python supports several functional programming constructs that allow concise and expressive manipulation of data.\n",
    "\n",
    "**map, filter, reduce**\n",
    "- `map` applies a function to all items in an iterable.\n",
    "- `filter` selects items from an iterable based on a predicate function.\n",
    "- `reduce` (from `functools`) aggregates items in an iterable using a binary function."
   ]
  },
  {
   "cell_type": "code",
   "execution_count": 56,
   "id": "6b793ccd",
   "metadata": {},
   "outputs": [
    {
     "name": "stdout",
     "output_type": "stream",
     "text": [
      "[1, 4, 9, 16]\n",
      "[2, 4]\n",
      "10\n"
     ]
    }
   ],
   "source": [
    "from functools import reduce\n",
    "\n",
    "nums = [1, 2, 3, 4]\n",
    "\n",
    "squared = list(map(lambda x: x**2, nums))\n",
    "evens = list(filter(lambda x: x % 2 == 0, nums))\n",
    "sum_all = reduce(lambda a, b: a + b, nums)\n",
    "\n",
    "print(squared)\n",
    "print(evens)\n",
    "print(sum_all)"
   ]
  },
  {
   "cell_type": "markdown",
   "id": "ca0cc085",
   "metadata": {},
   "source": [
    "Lambda functions are anonymous, inline functions useful for short, simple\n",
    "operations."
   ]
  },
  {
   "cell_type": "code",
   "execution_count": 57,
   "id": "244e8f09",
   "metadata": {},
   "outputs": [
    {
     "name": "stdout",
     "output_type": "stream",
     "text": [
      "8\n"
     ]
    }
   ],
   "source": [
    "add = lambda x, y: x + y\n",
    "print(add(3, 5))"
   ]
  },
  {
   "cell_type": "markdown",
   "id": "9e18baee",
   "metadata": {},
   "source": [
    "The `functools` module provides higher-order functions like:  \n",
    "- **lru_cache**: caches results of expensive function calls to optimize repeated calls.  \n",
    "- **partial**: creates a new function with some arguments fixed."
   ]
  },
  {
   "cell_type": "code",
   "execution_count": 58,
   "id": "8732ee6c",
   "metadata": {},
   "outputs": [
    {
     "name": "stdout",
     "output_type": "stream",
     "text": [
      "55\n",
      "15\n"
     ]
    }
   ],
   "source": [
    "from functools import lru_cache, partial\n",
    "\n",
    "@lru_cache(maxsize=None)\n",
    "def fibonacci(n):\n",
    "    if n < 2:\n",
    "        return n\n",
    "    return fibonacci(n-1) + fibonacci(n-2)\n",
    "\n",
    "add_five = partial(lambda x, y: x + y, 5)\n",
    "print(fibonacci(10))\n",
    "print(add_five(10))"
   ]
  },
  {
   "cell_type": "markdown",
   "id": "09186861",
   "metadata": {},
   "source": [
    "### Exception Handling\n",
    "\n",
    "Python provides a robust mechanism to handle runtime errors through `try`/`except` blocks, allowing programs to recover gracefully or clean up resources, using four essential keywords: `try`, `except`, `else`, `finally`.\n",
    "\n",
    "- `try` block contains code that might raise exceptions.\n",
    "- `except` catches and handles exceptions.\n",
    "- `else` executes if no exceptions occur.\n",
    "- `finally` always executes, typically used for cleanup.\n"
   ]
  },
  {
   "cell_type": "code",
   "execution_count": 59,
   "id": "34e6d0e9",
   "metadata": {},
   "outputs": [
    {
     "name": "stdout",
     "output_type": "stream",
     "text": [
      "Cannot divide by zero.\n",
      "Execution completed.\n"
     ]
    }
   ],
   "source": [
    "try:\n",
    "    result = 10 / 0\n",
    "except ZeroDivisionError:\n",
    "    print(\"Cannot divide by zero.\")\n",
    "else:\n",
    "    print(f\"Result is {result}\")\n",
    "finally:\n",
    "    print(\"Execution completed.\")"
   ]
  },
  {
   "cell_type": "markdown",
   "id": "39dc1312",
   "metadata": {},
   "source": [
    "You can define your own exception classes by subclassing Exception to\n",
    "represent specific error conditions."
   ]
  },
  {
   "cell_type": "code",
   "execution_count": 60,
   "id": "7366f61e",
   "metadata": {},
   "outputs": [
    {
     "name": "stdout",
     "output_type": "stream",
     "text": [
      "Not enough balance\n"
     ]
    }
   ],
   "source": [
    "class InsufficientFunds(Exception):\n",
    "    pass\n",
    "\n",
    "def withdraw(amount, balance):\n",
    "    if amount > balance:\n",
    "        raise InsufficientFunds(\"Not enough balance\")\n",
    "    return balance - amount\n",
    "\n",
    "try:\n",
    "    withdraw(100, 50)\n",
    "except InsufficientFunds as e:\n",
    "    print(e)"
   ]
  },
  {
   "cell_type": "markdown",
   "id": "b27b2d57",
   "metadata": {},
   "source": [
    "Note that a good practice is to catch specific exceptions rather than using\n",
    "bare except."
   ]
  },
  {
   "cell_type": "markdown",
   "id": "9c3b282a",
   "metadata": {},
   "source": [
    "### Context Managers\n",
    "\n",
    "Context managers in Python simplify resource management by ensuring setup and cleanup actions are executed automatically, typically using the `with` statement.  \n",
    "The `with` statement automatically manages resources like files, closing them when the block ends, even if exceptions occur. Resource closing is **not automatic** when used out of a `with` clause.\n"
   ]
  },
  {
   "cell_type": "code",
   "execution_count": 61,
   "id": "c980f057",
   "metadata": {},
   "outputs": [
    {
     "ename": "FileNotFoundError",
     "evalue": "[Errno 2] No such file or directory: 'data.txt'",
     "output_type": "error",
     "traceback": [
      "\u001b[0;31m---------------------------------------------------------------------------\u001b[0m",
      "\u001b[0;31mFileNotFoundError\u001b[0m                         Traceback (most recent call last)",
      "\u001b[0;32m/var/folders/23/1ny30znd3rngz83z0yc20wg80000gn/T/ipykernel_3320/1037023945.py\u001b[0m in \u001b[0;36m<module>\u001b[0;34m\u001b[0m\n\u001b[1;32m      1\u001b[0m \u001b[0;31m# That won't work if we have no 'data.txt' file in the directory but you got the idea...\u001b[0m\u001b[0;34m\u001b[0m\u001b[0;34m\u001b[0m\u001b[0m\n\u001b[1;32m      2\u001b[0m \u001b[0;34m\u001b[0m\u001b[0m\n\u001b[0;32m----> 3\u001b[0;31m \u001b[0;32mwith\u001b[0m \u001b[0mopen\u001b[0m\u001b[0;34m(\u001b[0m\u001b[0;34m\"data.txt\"\u001b[0m\u001b[0;34m,\u001b[0m \u001b[0;34m\"r\"\u001b[0m\u001b[0;34m)\u001b[0m \u001b[0;32mas\u001b[0m \u001b[0mfile\u001b[0m\u001b[0;34m:\u001b[0m\u001b[0;34m\u001b[0m\u001b[0;34m\u001b[0m\u001b[0m\n\u001b[0m\u001b[1;32m      4\u001b[0m     \u001b[0mcontents\u001b[0m \u001b[0;34m=\u001b[0m \u001b[0mfile\u001b[0m\u001b[0;34m.\u001b[0m\u001b[0mread\u001b[0m\u001b[0;34m(\u001b[0m\u001b[0;34m)\u001b[0m\u001b[0;34m\u001b[0m\u001b[0;34m\u001b[0m\u001b[0m\n\u001b[1;32m      5\u001b[0m \u001b[0;34m\u001b[0m\u001b[0m\n",
      "\u001b[0;31mFileNotFoundError\u001b[0m: [Errno 2] No such file or directory: 'data.txt'"
     ]
    }
   ],
   "source": [
    "# That won't work if we have no 'data.txt' file in the directory but you got the idea...\n",
    "\n",
    "with open(\"data.txt\", \"r\") as file:\n",
    "    contents = file.read()\n",
    "\n",
    "print(file.closed)"
   ]
  },
  {
   "cell_type": "markdown",
   "id": "a7bdf96e",
   "metadata": {},
   "source": [
    "### Typing and Type Hints\n",
    "\n",
    "Python supports optional type hints to improve code clarity and enable static type checking without affecting runtime behavior.\n",
    "\n",
    "You can annotate function parameters and return types using colon and arrow syntax.\n"
   ]
  },
  {
   "cell_type": "code",
   "execution_count": 71,
   "id": "1ab11aa0",
   "metadata": {},
   "outputs": [],
   "source": [
    "def greet(name: str) -> str:\n",
    "    return f\"Hello, {name}\""
   ]
  },
  {
   "cell_type": "markdown",
   "id": "912589f0",
   "metadata": {},
   "source": [
    "The `typing` module provides advanced types like `Union` for multiple possible types, `Optional` for nullable values, and `Callable` for function signatures.\n"
   ]
  },
  {
   "cell_type": "code",
   "execution_count": 72,
   "id": "e4f8dee3",
   "metadata": {},
   "outputs": [
    {
     "name": "stdout",
     "output_type": "stream",
     "text": [
      "42\n",
      "HELLO\n",
      "5\n"
     ]
    }
   ],
   "source": [
    "from typing import Union, Optional, Callable\n",
    "\n",
    "def process(value: Union[int, str]) -> Optional[str]:\n",
    "    if isinstance(value, int):\n",
    "        return str(value)\n",
    "    elif isinstance(value, str):\n",
    "        return value.upper()\n",
    "    return None\n",
    "\n",
    "def executor(func: Callable[[int, int], int], a: int, b: int) -> int:\n",
    "    return func(a, b)\n",
    "\n",
    "print(process(42))           # Output: 42\n",
    "print(process(\"hello\"))      # Output: HELLO\n",
    "print(executor(lambda x, y: x + y, 2, 3))  # Output: 5\n"
   ]
  },
  {
   "cell_type": "markdown",
   "id": "5b9b622c",
   "metadata": {},
   "source": [
    "Tools like `mypy` analyze type hints to detect potential bugs before runtime, improving code reliability and maintainability.\n",
    "\n",
    "**Note that using type hints is not mandatory**, and will not cause any exceptions to be raised; it just serves an indicative purpose.\n"
   ]
  },
  {
   "cell_type": "code",
   "execution_count": null,
   "id": "139356d2",
   "metadata": {},
   "outputs": [],
   "source": []
  }
 ],
 "metadata": {
  "kernelspec": {
   "display_name": "Python 3 (ipykernel)",
   "language": "python",
   "name": "python3"
  },
  "language_info": {
   "codemirror_mode": {
    "name": "ipython",
    "version": 3
   },
   "file_extension": ".py",
   "mimetype": "text/x-python",
   "name": "python",
   "nbconvert_exporter": "python",
   "pygments_lexer": "ipython3",
   "version": "3.9.7"
  }
 },
 "nbformat": 4,
 "nbformat_minor": 5
}

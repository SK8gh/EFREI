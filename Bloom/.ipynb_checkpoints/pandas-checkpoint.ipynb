{
 "cells": [
  {
   "cell_type": "markdown",
   "id": "95d7658f",
   "metadata": {},
   "source": [
    "# Introduction to Pandas\n",
    "\n",
    "Pandas is a Python library for data analysis and manipulation. It is built on top of NumPy and is especially powerful for working with tabular data, such as financial time series, transaction records, or any dataset stored in rows and columns.\n",
    "\n",
    "In this notebook, we will cover:\n",
    "- Installing pandas and numpy\n",
    "- Creating and inspecting Series and DataFrames\n",
    "- Reading and writing data\n",
    "- Selecting and filtering data\n",
    "- Basic transformations and computations\n",
    "- Grouping and merging data\n",
    "- Simple financial time series analysis"
   ]
  },
  {
   "cell_type": "markdown",
   "id": "3a011da8",
   "metadata": {},
   "source": [
    "#### pip install\n",
    "\n",
    "If not yet done, pandas and numpy must be installed using pip:"
   ]
  },
  {
   "cell_type": "code",
   "execution_count": null,
   "id": "c7c48b90",
   "metadata": {},
   "outputs": [],
   "source": [
    "!pip install pandas numpy --quiet"
   ]
  },
  {
   "cell_type": "markdown",
   "id": "87a6d837",
   "metadata": {},
   "source": [
    "## 1. Importing Libraries and Defining Our Example DataFrame\n",
    "\n",
    "We will define a single DataFrame at the start of this notebook and use it throughout all examples.\n",
    "Our dataset will represent some example stock market data."
   ]
  },
  {
   "cell_type": "code",
   "execution_count": null,
   "id": "3a44c33e",
   "metadata": {},
   "outputs": [],
   "source": [
    "import pandas as pd\n",
    "import numpy as np\n",
    "\n",
    "# Define example stock market data\n",
    "data = {\n",
    "    \"Symbol\": [\"AAPL\", \"MSFT\", \"GOOG\", \"AMZN\", \"TSLA\"],\n",
    "    \"Price\": [150.0, 280.0, 2700.0, 3400.0, 720.0],\n",
    "    \"Volume\": [1000000, 800000, 1200000, 500000, 1500000],\n",
    "    \"Sector\": [\"Tech\", \"Tech\", \"Tech\", \"E-Commerce\", \"Automotive\"]\n",
    "}\n",
    "\n",
    "df = pd.DataFrame(data)\n",
    "df"
   ]
  },
  {
   "cell_type": "markdown",
   "id": "d6806299",
   "metadata": {},
   "source": [
    "### Save to CSV and Reload\n",
    "\n",
    "Saving and reloading data is an important part of the data analysis workflow."
   ]
  },
  {
   "cell_type": "code",
   "execution_count": null,
   "id": "88598865",
   "metadata": {},
   "outputs": [],
   "source": [
    "# Save DataFrame to CSV\n",
    "df.to_csv(\"stocks.csv\", index=False)\n",
    "\n",
    "# Reload from CSV\n",
    "df = pd.read_csv(\"stocks.csv\")\n",
    "df"
   ]
  },
  {
   "cell_type": "markdown",
   "id": "14c775f6",
   "metadata": {},
   "source": [
    "## 2. Pandas Data Structures\n",
    "\n",
    "Pandas provides two main data structures:\n",
    "- **Series**: a 1D labeled array\n",
    "- **DataFrame**: a 2D table of data with labeled rows and columns"
   ]
  },
  {
   "cell_type": "code",
   "execution_count": null,
   "id": "8cf03ae2",
   "metadata": {},
   "outputs": [],
   "source": [
    "# Series example: selecting the Price column\n",
    "prices_series = df[\"Price\"]\n",
    "prices_series"
   ]
  },
  {
   "cell_type": "code",
   "execution_count": null,
   "id": "7a594d7f",
   "metadata": {},
   "outputs": [],
   "source": [
    "# DataFrame example: selecting multiple columns\n",
    "df[[\"Symbol\", \"Price\"]]"
   ]
  },
  {
   "cell_type": "markdown",
   "id": "bbd3e790",
   "metadata": {},
   "source": [
    "## 3. Inspecting Data\n",
    "\n",
    "Useful methods for exploring datasets:"
   ]
  },
  {
   "cell_type": "code",
   "execution_count": null,
   "id": "0ee0c865",
   "metadata": {},
   "outputs": [],
   "source": [
    "df.head()  # First rows\n",
    "df.tail(2) # Last rows\n",
    "df.info()  # Structure\n",
    "df.describe()  # Summary statistics"
   ]
  },
  {
   "cell_type": "markdown",
   "id": "7f45f85f",
   "metadata": {},
   "source": [
    "## 4. Selecting and Filtering Data"
   ]
  },
  {
   "cell_type": "code",
   "execution_count": null,
   "id": "fd7f682c",
   "metadata": {},
   "outputs": [],
   "source": [
    "# Selecting one column\n",
    "df[\"Price\"]\n",
    "\n",
    "# Selecting multiple columns\n",
    "df[[\"Symbol\", \"Volume\"]]\n",
    "\n",
    "# Filtering by condition\n",
    "df[df[\"Price\"] > 1000]"
   ]
  },
  {
   "cell_type": "markdown",
   "id": "79b561e0",
   "metadata": {},
   "source": [
    "## 5. Basic Transformations"
   ]
  },
  {
   "cell_type": "code",
   "execution_count": null,
   "id": "b586a73d",
   "metadata": {},
   "outputs": [],
   "source": [
    "# Add MarketCap column\n",
    "df[\"MarketCap\"] = df[\"Price\"] * df[\"Volume\"]\n",
    "\n",
    "# Add formatted price\n",
    "df[\"PriceUSD\"] = df[\"Price\"].apply(lambda x: f\"${x:.2f}\")\n",
    "df"
   ]
  },
  {
   "cell_type": "markdown",
   "id": "35471e41",
   "metadata": {},
   "source": [
    "## 6. Grouping Data with groupby\n",
    "\n",
    "The `groupby` method is used to split data into groups, apply functions, and combine results."
   ]
  },
  {
   "cell_type": "code",
   "execution_count": null,
   "id": "feffe74f",
   "metadata": {},
   "outputs": [],
   "source": [
    "# Example: group by Sector and compute average price and volume\n",
    "df.groupby(\"Sector\")[\"Price\", \"Volume\"].mean()"
   ]
  },
  {
   "cell_type": "code",
   "execution_count": null,
   "id": "debf13eb",
   "metadata": {},
   "outputs": [],
   "source": [
    "# Example: multiple aggregation functions\n",
    "df.groupby(\"Sector\").agg({\n",
    "    \"Price\": [\"mean\", \"max\"],\n",
    "    \"Volume\": \"sum\"\n",
    "})"
   ]
  },
  {
   "cell_type": "markdown",
   "id": "0d562849",
   "metadata": {},
   "source": [
    "## 7. Combining Data with merge\n",
    "\n",
    "`merge` allows you to combine two DataFrames using common columns (like SQL joins)."
   ]
  },
  {
   "cell_type": "code",
   "execution_count": null,
   "id": "b09519ad",
   "metadata": {},
   "outputs": [],
   "source": [
    "# Example: merging stock info with sector performance\n",
    "sector_perf = pd.DataFrame({\n",
    "    \"Sector\": [\"Tech\", \"E-Commerce\", \"Automotive\"],\n",
    "    \"YTD_Return\": [0.15, 0.10, 0.25]\n",
    "})\n",
    "\n",
    "merged_df = pd.merge(df, sector_perf, on=\"Sector\", how=\"left\")\n",
    "merged_df"
   ]
  },
  {
   "cell_type": "markdown",
   "id": "29a20e17",
   "metadata": {},
   "source": [
    "## 8. Simple Financial Time Series Example"
   ]
  },
  {
   "cell_type": "code",
   "execution_count": null,
   "id": "854074b8",
   "metadata": {},
   "outputs": [],
   "source": [
    "# Simulating daily prices for AAPL\n",
    "dates = pd.date_range(start=\"2023-01-01\", periods=5, freq=\"D\")\n",
    "prices = pd.Series([150, 152, 151, 153, 155], index=dates)\n",
    "\n",
    "# Daily returns\n",
    "returns = prices.pct_change()\n",
    "\n",
    "# Cumulative returns\n",
    "cumulative = (1 + returns).cumprod() - 1\n",
    "\n",
    "pd.DataFrame({\n",
    "    \"Price\": prices,\n",
    "    \"Daily Return\": returns,\n",
    "    \"Cumulative Return\": cumulative\n",
    "})"
   ]
  }
 ],
 "metadata": {
  "kernelspec": {
   "display_name": "Python 3 (ipykernel)",
   "language": "python",
   "name": "python3"
  },
  "language_info": {
   "codemirror_mode": {
    "name": "ipython",
    "version": 3
   },
   "file_extension": ".py",
   "mimetype": "text/x-python",
   "name": "python",
   "nbconvert_exporter": "python",
   "pygments_lexer": "ipython3",
   "version": "3.9.7"
  }
 },
 "nbformat": 4,
 "nbformat_minor": 5
}

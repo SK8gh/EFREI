{
 "cells": [
  {
   "cell_type": "code",
   "execution_count": 1,
   "id": "7bdde17d",
   "metadata": {},
   "outputs": [
    {
     "name": "stderr",
     "output_type": "stream",
     "text": [
      "/Users/miller/opt/anaconda3/lib/python3.9/site-packages/pandas/core/computation/expressions.py:21: UserWarning: Pandas requires version '2.8.0' or newer of 'numexpr' (version '2.7.3' currently installed).\n",
      "  from pandas.core.computation.check import NUMEXPR_INSTALLED\n",
      "/Users/miller/opt/anaconda3/lib/python3.9/site-packages/pandas/core/arrays/masked.py:62: UserWarning: Pandas requires version '1.3.4' or newer of 'bottleneck' (version '1.3.2' currently installed).\n",
      "  from pandas.core import (\n"
     ]
    }
   ],
   "source": [
    "from binance_wrapper import BinanceWrapper\n",
    "from analytics import Analytics\n",
    "\n",
    "import matplotlib.pyplot as plt"
   ]
  },
  {
   "cell_type": "markdown",
   "id": "4b8adf29",
   "metadata": {},
   "source": [
    "### Requesting data"
   ]
  },
  {
   "cell_type": "code",
   "execution_count": 2,
   "id": "2c3da0ec",
   "metadata": {},
   "outputs": [],
   "source": [
    "# Products being requested\n",
    "symbols = ['BTCUSDT', 'ETHUSDT', ]\n",
    "\n",
    "# Time period being requested\n",
    "start_time, end_time = '2025-08-01', '2025-08-09'\n",
    "\n",
    "# Granularity of the requested data\n",
    "interval = '1h'"
   ]
  },
  {
   "cell_type": "code",
   "execution_count": 3,
   "id": "53304d25",
   "metadata": {},
   "outputs": [],
   "source": [
    "data = BinanceWrapper().get_data(symbols=symbols,\n",
    "                                 start_time=start_time,\n",
    "                                 end_time=end_time,\n",
    "                                 interval=interval)"
   ]
  },
  {
   "cell_type": "markdown",
   "id": "e41cc4e8",
   "metadata": {},
   "source": [
    "### Computing analytics"
   ]
  },
  {
   "cell_type": "code",
   "execution_count": 4,
   "id": "03b18de0",
   "metadata": {},
   "outputs": [],
   "source": [
    "bitcoin_df = data['BTCUSDT']\n",
    "\n",
    "window = 10\n",
    "\n",
    "bitcoin_df = Analytics.moving_average(df=bitcoin_df, column='CLOSE', window=window)\n",
    "\n",
    "bitcoin_df = Analytics.exponential_ma(df=bitcoin_df, column='CLOSE', window=window)\n",
    "\n",
    "bitcoin_df = Analytics.bollinger_bands(df=bitcoin_df, column='CLOSE', window=window)"
   ]
  },
  {
   "cell_type": "code",
   "execution_count": 5,
   "id": "03c5d5b0",
   "metadata": {},
   "outputs": [],
   "source": [
    "cols = ['CLOSE', f'MA{window}_CLOSE', f'BB_Upper_{window}', f'BB_Lower_{window}']\n",
    "\n",
    "bitcoin_df.dropna(subset=cols, inplace=True)"
   ]
  },
  {
   "cell_type": "markdown",
   "id": "c2c8ce4b",
   "metadata": {},
   "source": [
    "### Computing interactive plots"
   ]
  },
  {
   "cell_type": "code",
   "execution_count": 8,
   "id": "5e2d7c5d",
   "metadata": {},
   "outputs": [
    {
     "data": {
      "application/vnd.jupyter.widget-view+json": {
       "model_id": "7758fe96216540b6976c53747cd799c5",
       "version_major": 2,
       "version_minor": 0
      },
      "text/plain": [
       "HBox(children=(IntSlider(value=5, continuous_update=False, description='Moving Average Size', layout=Layout(wi…"
      ]
     },
     "metadata": {},
     "output_type": "display_data"
    },
    {
     "data": {
      "application/vnd.jupyter.widget-view+json": {
       "model_id": "88440f4202ae4ae1ac8979a8c88ae398",
       "version_major": 2,
       "version_minor": 0
      },
      "text/plain": [
       "Output()"
      ]
     },
     "metadata": {},
     "output_type": "display_data"
    }
   ],
   "source": [
    "from IPython.display import display, clear_output\n",
    "from matplotlib.ticker import FuncFormatter\n",
    "import matplotlib.pyplot as plt\n",
    "import ipywidgets as widgets\n",
    "\n",
    "plt.style.use(\"dark_background\")\n",
    "\n",
    "line_width = 2\n",
    "\n",
    "window_slider = widgets.IntSlider(\n",
    "    min=1, \n",
    "    max=30, \n",
    "    step=1, \n",
    "    value=5, \n",
    "    description=\"Moving Average Size\", \n",
    "    continuous_update=False,\n",
    "    style={'description_width': '180px'},  # widen description area\n",
    "    layout=widgets.Layout(width='400px')   # widen whole widget\n",
    ")\n",
    "\n",
    "bb_factor_slider = widgets.FloatSlider(\n",
    "    min=1.0, \n",
    "    max=5.0, \n",
    "    step=0.1,\n",
    "    value=2.0, \n",
    "    description=\"Bollinger Bands Factor\", \n",
    "    continuous_update=False,\n",
    "    style={'description_width': '180px'},\n",
    "    layout=widgets.Layout(width='400px')\n",
    ")\n",
    "\n",
    "output = widgets.Output()\n",
    "\n",
    "def update_plot(change):\n",
    "    with output:\n",
    "        clear_output(wait=True)\n",
    "        df_ = bitcoin_df.copy()\n",
    "        w = window_slider.value\n",
    "        factor = bb_factor_slider.value\n",
    "        \n",
    "        # Compute indicators\n",
    "        df_ = Analytics.moving_average(df_, 'CLOSE', w)\n",
    "        df_ = Analytics.bollinger_bands(df_, 'CLOSE', w, factor)\n",
    "        \n",
    "        fig, ax = plt.subplots(figsize=(14, 7))\n",
    "        \n",
    "        # Plot lines\n",
    "        ax.plot(df_['CLOSE'], label='Close Price', color='#00ffec', linewidth=line_width)\n",
    "        ax.plot(df_[f'MA{w}_CLOSE'], label=f'MA{w}', color='lavender', linewidth=line_width)\n",
    "        ax.plot(df_[f'BB_Upper_{w}'], label='Bollinger Upper', linestyle='--', color='red', linewidth=line_width)\n",
    "        ax.plot(df_[f'BB_Lower_{w}'], label='Bollinger Lower', linestyle='--', color='red', linewidth=line_width)\n",
    "        \n",
    "        # Fill area between Bollinger Bands\n",
    "        ax.fill_between(\n",
    "            df_.index,\n",
    "            df_[f'BB_Upper_{w}'],\n",
    "            df_[f'BB_Lower_{w}'],\n",
    "            color='red',\n",
    "            alpha=0.2\n",
    "        )\n",
    "        \n",
    "        # Bloomberg-like grid\n",
    "        ax.grid(color='#444444', linestyle='--', linewidth=0.5)\n",
    "        \n",
    "        # Format y-axis to thousands\n",
    "        ax.yaxis.set_major_formatter(FuncFormatter(lambda x, _: f'{x/1e3:.1f}'))\n",
    "        \n",
    "        # Remove x-axis ticks and labels\n",
    "        ax.set_xticks([])\n",
    "        ax.set_xticklabels([])\n",
    "        \n",
    "        # Labels and legend\n",
    "        ax.set_ylabel('Price (k$)', fontsize=12, fontweight='bold', color='white')\n",
    "        ax.legend(facecolor='#111111', edgecolor='white', fontsize=10)\n",
    "        ax.set_title('Bitcoin Close Price & Trading Indicators', fontsize=14, fontweight='bold', color='white')\n",
    "        \n",
    "        plt.tight_layout()\n",
    "        plt.show()\n",
    "\n",
    "window_slider.observe(update_plot, names='value')\n",
    "bb_factor_slider.observe(update_plot, names='value')\n",
    "\n",
    "# Place sliders side-by-side using HBox\n",
    "slider_box = widgets.HBox([window_slider, bb_factor_slider])\n",
    "\n",
    "display(slider_box, output)\n",
    "\n",
    "update_plot(None)  # initial plot\n"
   ]
  },
  {
   "cell_type": "code",
   "execution_count": null,
   "id": "95bb5428",
   "metadata": {},
   "outputs": [],
   "source": []
  }
 ],
 "metadata": {
  "kernelspec": {
   "display_name": "Python 3 (ipykernel)",
   "language": "python",
   "name": "python3"
  },
  "language_info": {
   "codemirror_mode": {
    "name": "ipython",
    "version": 3
   },
   "file_extension": ".py",
   "mimetype": "text/x-python",
   "name": "python",
   "nbconvert_exporter": "python",
   "pygments_lexer": "ipython3",
   "version": "3.9.7"
  }
 },
 "nbformat": 4,
 "nbformat_minor": 5
}

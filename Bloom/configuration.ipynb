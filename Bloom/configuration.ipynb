{
 "cells": [
  {
   "cell_type": "markdown",
   "id": "e7053835",
   "metadata": {},
   "source": [
    "#### Project configuration storing constants\n",
    "\n",
    "Every respectable programming project has one or many configuration files, storing constants used throughout the code or variables used in unit or regression test. Note that it is not a good practice to store credentials (usernames, passwords, or \"secrets\" in general) directly in the code, for the following reasons: \n",
    "- it probably would have to be committed to Github at some point, exposing sensitive data.\n",
    "- if credentials change, the code has to change too (which makes no sense)\n",
    "- developers working on applications don't need to be aware of credentials used by servers to launch the apps"
   ]
  },
  {
   "cell_type": "code",
   "execution_count": 3,
   "id": "2bda7dc2",
   "metadata": {},
   "outputs": [],
   "source": [
    "# Valid intervals that can be used to query product data to the API\n",
    "VALID_INTERVALS = {\n",
    "    '1m': '1 minute',\n",
    "    '3m': '3 minutes',\n",
    "    '5m': '5 minutes',\n",
    "    '15m': '15 minutes',\n",
    "    '30m': '30 minutes',\n",
    "    '1h': '1 hour',\n",
    "    '2h': '2 hours',\n",
    "    '4h': '4 hours',\n",
    "    '6h': '6 hours',\n",
    "    '8h': '8 hours',\n",
    "    '12h': '12 hours',\n",
    "    '1d': '1 day',\n",
    "    '3d': '3 days',\n",
    "    '1w': '1 week',\n",
    "    '1M': '1 month'\n",
    "}\n",
    "\n",
    "RESPONSE_COLUMNS = [\n",
    "    'OPEN_TIMESTAMP',\n",
    "    'OPEN', \n",
    "    'HIGH',\n",
    "    'LOW',\n",
    "    'CLOSE',\n",
    "    'VOLUME',\n",
    "    'CLOSE_TIMESTAMP', \n",
    "    'QUOTE_ASSET_VOLUME',\n",
    "    'TRADES_NUMBER',\n",
    "    'TAKER_BUY_BASE_ASSET_VOLUME',\n",
    "    'TAKER_BUY_QUOTE_ASSET_VOLUME', \n",
    "    'IGNORE'\n",
    "]\n",
    "\n",
    "DEFAULT_LOGGING_LEVEL = 'INFO'\n",
    "\n",
    "# Columns to remove from the dataframe obtained from Binance\n",
    "IGNORE_COLUMNS = [\n",
    "    'QUOTE_ASSET_VOLUME',\n",
    "    'TRADES_NUMBER',\n",
    "    'TAKER_BUY_BASE_ASSET_VOLUME',\n",
    "    'TAKER_BUY_QUOTE_ASSET_VOLUME',\n",
    "    'IGNORE'\n",
    "]\n"
   ]
  },
  {
   "cell_type": "code",
   "execution_count": null,
   "id": "b15726a8",
   "metadata": {},
   "outputs": [],
   "source": []
  }
 ],
 "metadata": {
  "kernelspec": {
   "display_name": "Python 3 (ipykernel)",
   "language": "python",
   "name": "python3"
  },
  "language_info": {
   "codemirror_mode": {
    "name": "ipython",
    "version": 3
   },
   "file_extension": ".py",
   "mimetype": "text/x-python",
   "name": "python",
   "nbconvert_exporter": "python",
   "pygments_lexer": "ipython3",
   "version": "3.9.7"
  }
 },
 "nbformat": 4,
 "nbformat_minor": 5
}

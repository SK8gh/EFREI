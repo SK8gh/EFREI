{
 "cells": [
  {
   "cell_type": "markdown",
   "id": "dadb838a",
   "metadata": {},
   "source": [
    "# Pricing using Diffusion Models & Numerical Methods\n",
    "\n",
    "## Introduction  \n",
    "This notebook explores quantitative finance techniques for pricing derivatives using stochastic processes and numerical methods. We implement several fundamental approaches for modeling asset price dynamics and computing option prices in a Black-Scholes framework.\n",
    "\n",
    "The notebook serves as both an educational resource and a practical toolkit, demonstrating: theoretical foundations of geometric Brownian motion as a model for asset prices, numerical implementation of key quantitative finance techniques, visualization of financial concepts and simulation results  \n",
    "\n",
    "## Contents  \n",
    "\n",
    "#### 1. Brownian Motion Simulation  \n",
    "- Visualizing fundamental stochastic processes  \n",
    "- Generating sample paths of Wiener processes  \n",
    "\n",
    "#### 2. Terminal Price Distribution Analysis  \n",
    "- Simulation of S<sub>T</sub>  \n",
    "- Comparing simulation & theoretical distribution  \n",
    "\n",
    "#### 3. Black-Scholes Analytical Pricing  \n",
    "- Implementing the classic option pricing formula  \n",
    "- Visualizing prices\n",
    "\n",
    "#### 4. Asset Price Trajectory Simulation  \n",
    "- Simulating trajectories of the asset price under the Black-Scholes model\n",
    "\n",
    "#### 5. Exotic Option Pricing via Monte Carlo  \n",
    "- Pricing path-dependent options (Asian and Barrier)  \n",
    "- Analyzing convergence properties of Monte Carlo methods  "
   ]
  },
  {
   "cell_type": "code",
   "execution_count": 68,
   "id": "86661c98",
   "metadata": {},
   "outputs": [],
   "source": [
    "# Imports\n",
    "\n",
    "from scipy.stats import lognorm, norm\n",
    "import matplotlib.pyplot as plt\n",
    "import numpy as np"
   ]
  },
  {
   "cell_type": "markdown",
   "id": "1ee25b97",
   "metadata": {},
   "source": [
    "## 1. Brownian Motion Simulation\n",
    "\n",
    "A **standard Brownian motion** (also called a **Wiener process**) $W_t$ is a continuous–time stochastic process with the following properties:\n",
    "\n",
    "1. $W_0 = 0$ almost surely.\n",
    "2. It has **independent increments**: for any $0 \\le t_0 < t_1 < \\dots < t_n$, the random variables  \n",
    "   $W_{t_1} - W_{t_0}, \\dots, W_{t_n} - W_{t_{n-1}}$ are independent.\n",
    "3. It has **stationary increments**: the distribution of $W_{t+s} - W_s$ depends only on $t$.\n",
    "4. For $t > s$, the increment $W_t - W_s$ follows a normal distribution with mean $0$ and variance $t - s$:  \n",
    "   $$\n",
    "   W_t - W_s \\sim \\mathcal{N}(0, \\, t - s)\n",
    "   $$\n",
    "5. Paths are **almost surely continuous** but nowhere differentiable.\n",
    "\n",
    "---\n",
    "\n",
    "### Discretization for Simulation\n",
    "\n",
    "In practice, we approximate $W_t$ on a discrete time grid $0 = t_0 < t_1 < \\dots < t_n = T$ using:\n",
    "\n",
    "$$\n",
    "W_{t_{k+1}} = W_{t_k} + \\sqrt{\\Delta t} \\, Z_k\n",
    "$$\n",
    "\n",
    "where:\n",
    "- $\\Delta t = \\frac{T}{n}$ is the time step,\n",
    "- $Z_k \\stackrel{\\text{i.i.d.}}{\\sim} \\mathcal{N}(0, 1)$ are independent standard normal variables."
   ]
  },
  {
   "cell_type": "code",
   "execution_count": 2,
   "id": "21cd90a9",
   "metadata": {},
   "outputs": [],
   "source": [
    "def brownian_motion(T: float, n_steps: int):\n",
    "    \"\"\"\n",
    "    Generate a single standard Brownian motion\n",
    "\n",
    "    Parameters:\n",
    "    -----------\n",
    "    T : Total time\n",
    "    n_steps : Number of time steps\n",
    "\n",
    "    Returns:\n",
    "    --------\n",
    "    tuple: (time, path)\n",
    "        time : numpy array of shape (n_steps+1,)\n",
    "        path : numpy array of shape (n_steps+1,)\n",
    "        \n",
    "    Example:\n",
    "    --------\n",
    "    brownian_motion(T=1, n_steps=100)\n",
    "    \"\"\"\n",
    "    dt = T / n_steps\n",
    "    time = np.linspace(0, T, n_steps + 1)\n",
    "\n",
    "    # Gaussian increments with mean 0, variance dt\n",
    "    dW = np.random.normal(0, np.sqrt(dt), size=n_steps)\n",
    "\n",
    "    # Cumulative sum for BM path\n",
    "    path = np.insert(np.cumsum(dW), 0, 0)\n",
    "\n",
    "    return time, path"
   ]
  },
  {
   "cell_type": "code",
   "execution_count": 12,
   "id": "a01fe63d",
   "metadata": {},
   "outputs": [
    {
     "data": {
      "image/png": "[encoded data removed]",
      "text/plain": [
       "<Figure size 432x288 with 1 Axes>"
      ]
     },
     "metadata": {
      "needs_background": "light"
     },
     "output_type": "display_data"
    }
   ],
   "source": [
    "time, path = brownian_motion(T=1, n_steps=500)\n",
    "\n",
    "plt.plot(time, path, color='purple', linewidth=1.5)\n",
    "plt.title('Brownian Trajectory')\n",
    "plt.grid()\n",
    "plt.show()"
   ]
  },
  {
   "cell_type": "markdown",
   "id": "cd1f7c6f",
   "metadata": {},
   "source": [
    "## 2. $S_T$ Terminal Price Simulation"
   ]
  },
  {
   "cell_type": "markdown",
   "id": "e9622c7e",
   "metadata": {},
   "source": [
    "In the **Black–Scholes model**, the underlying asset price $S_t$ follows the stochastic differential equation (under the risk–neutral measure $\\mathbb{Q}$):\n",
    "\n",
    "$$\n",
    "dS_t = r S_t\\, dt + \\sigma S_t\\, dW_t, \\quad S_0 > 0\n",
    "$$\n",
    "\n",
    "where:\n",
    "- $r$ is the continuously compounded risk–free interest rate,\n",
    "- $\\sigma > 0$ is the volatility,\n",
    "- $W_t$ is a standard Brownian motion under $\\mathbb{Q}$.\n",
    "\n",
    "---\n",
    "\n",
    "### Risk–neutral solution\n",
    "\n",
    "The SDE has the explicit solution:\n",
    "\n",
    "$$\n",
    "S_T = S_0 \\exp\\left( \\left(r - \\frac{\\sigma^2}{2}\\right)T + \\sigma W_T \\right)\n",
    "$$\n",
    "\n",
    "Under $\\mathbb{Q}$, $W_T \\sim \\mathcal{N}(0, T)$, so $\\ln S_T$ is normally distributed with:\n",
    "\n",
    "$$\n",
    "\\ln S_T \\sim \\mathcal{N}\\left( \\ln S_0 + \\left(r - \\frac{\\sigma^2}{2}\\right)T, \\; \\sigma^2 T \\right)\n",
    "$$"
   ]
  },
  {
   "cell_type": "code",
   "execution_count": 72,
   "id": "56017fe2",
   "metadata": {},
   "outputs": [],
   "source": [
    "def black_scholes_ST(S0: float, r: float, sigma: float, T: float, n_paths: int):\n",
    "    \"\"\"\n",
    "    Simulate terminal stock price S_T under the Black-Scholes model\n",
    "\n",
    "    Parameters:\n",
    "    -----------\n",
    "    S0: Starting price\n",
    "    r: Risk-free rate in the Black-Scholes model\n",
    "    sigma: Volatility in the Black-Scholes model\n",
    "    T: Time to maturity\n",
    "    n_paths: Number of simulated S_T\n",
    "    \n",
    "    Returns:\n",
    "    --------\n",
    "    Sample of S_T, size = n_paths\n",
    "        \n",
    "    Example:\n",
    "    --------\n",
    "    black_scholes_ST(S0=100, r=0.05, sigma=0.3, T=1, n_paths=10)\n",
    "    \"\"\"\n",
    "    # W_T ~ N(0, T)\n",
    "    W_T = np.random.normal(0, np.sqrt(T), size=n_paths)\n",
    "    \n",
    "    # Black-Scholes formula for S_T\n",
    "    ST = S0 * np.exp((r - 0.5 * sigma**2) * T + sigma * W_T)\n",
    "    \n",
    "    return ST"
   ]
  },
  {
   "cell_type": "code",
   "execution_count": 63,
   "id": "0aeae105",
   "metadata": {
    "scrolled": false
   },
   "outputs": [
    {
     "data": {
      "text/plain": [
       "array([105.32678839,  99.36575242, 113.45045411, 219.78977964,\n",
       "        65.37419439])"
      ]
     },
     "execution_count": 63,
     "metadata": {},
     "output_type": "execute_result"
    }
   ],
   "source": [
    "# Setting parameters to simulate the terminal prices S_T\n",
    "\n",
    "# Black-Scholes model parameters\n",
    "sigma = 0.3\n",
    "r = 0.05\n",
    "\n",
    "# Initial spot & time horizon\n",
    "S0 = 100\n",
    "T = 1.0\n",
    "\n",
    "# Sample size\n",
    "n_paths = 5000\n",
    "\n",
    "# Simulate\n",
    "ST_samples = simulate_black_scholes_ST(S0, r, sigma, T, n_paths)\n",
    "\n",
    "# First terminal prices at time T\n",
    "ST_samples[:5]"
   ]
  },
  {
   "cell_type": "code",
   "execution_count": 66,
   "id": "4a723984",
   "metadata": {},
   "outputs": [],
   "source": [
    "# Computing the theoretical lognormal PDF\n",
    "\n",
    "shape = sigma * np.sqrt(T)\n",
    "scale = S0 * np.exp((r - 0.5 * sigma ** 2) * T)\n",
    "\n",
    "x = np.linspace(min(ST_samples), max(ST_samples), 500)"
   ]
  },
  {
   "cell_type": "code",
   "execution_count": 102,
   "id": "02e810a8",
   "metadata": {},
   "outputs": [
    {
     "data": {
      "image/png": "[encoded data removed]",
      "text/plain": [
       "<Figure size 720x360 with 1 Axes>"
      ]
     },
     "metadata": {
      "needs_background": "light"
     },
     "output_type": "display_data"
    }
   ],
   "source": [
    "# Plotting empirical histogram & theoretical probability density function\n",
    "plt.figure(figsize=(10, 5))\n",
    "plt.hist(ST_samples, color='purple', bins=75, density=True, alpha=0.3, label=\"Simulated sample\")\n",
    "plt.plot(x, lognorm.pdf(x, s=shape, scale=scale), color='red', lw=2, label=\"Theoretical PDF\")\n",
    "plt.title(\"$S_T$ sample against theoretical distribution\")\n",
    "plt.xlabel(\"$S_T$\")\n",
    "plt.legend()\n",
    "plt.grid()\n",
    "plt.show()"
   ]
  },
  {
   "cell_type": "markdown",
   "id": "690129db",
   "metadata": {},
   "source": [
    "## 3. Black-Scholes Analytical Pricing  \n",
    "\n",
    "### European Call and Put Prices\n",
    "\n",
    "The **Black–Scholes formulas** for a European call $C$ and put $P$ with strike $K$ and maturity $T$ are:\n",
    "\n",
    "$$\n",
    "C(S_0, K, T, r, \\sigma) = S_0 \\, \\Phi(d_1) - K e^{-rT} \\, \\Phi(d_2)\n",
    "$$\n",
    "\n",
    "$$\n",
    "P(S_0, K, T, r, \\sigma) = K e^{-rT} \\, \\Phi(-d_2) - S_0 \\, \\Phi(-d_1)\n",
    "$$\n",
    "\n",
    "where:\n",
    "\n",
    "$$\n",
    "d_1 = \\frac{\\ln\\left(\\frac{S_0}{K}\\right) + \\left(r + \\frac{\\sigma^2}{2}\\right)T}{\\sigma \\sqrt{T}}\n",
    "$$\n",
    "\n",
    "$$\n",
    "d_2 = d_1 - \\sigma \\sqrt{T}\n",
    "$$\n",
    "\n",
    "and:\n",
    "- $\\Phi(\\cdot)$ is the standard normal cumulative distribution function (CDF).\n",
    "\n",
    "---\n",
    "\n",
    "### Put–Call Parity\n",
    "\n",
    "The formulas satisfy **put–call parity**:\n",
    "\n",
    "$$\n",
    "C - P = S_0 - K e^{-rT}\n",
    "$$"
   ]
  },
  {
   "cell_type": "code",
   "execution_count": 83,
   "id": "3baefe59",
   "metadata": {},
   "outputs": [],
   "source": [
    "def d1(S0: float, K: float, T: float, r: float, sigma: float) -> float:\n",
    "    \"\"\"\n",
    "    Computes the d1 parameter in the Black–Scholes formula\n",
    "    \"\"\"\n",
    "    return (np.log(S0 / K) + (r + 0.5 * sigma**2) * T) / (sigma * np.sqrt(T))\n",
    "\n",
    "\n",
    "def d2(S0: float, K: float, T: float, r: float, sigma: float) -> float:\n",
    "    \"\"\"\n",
    "    Computes the d2 parameter in the Black–Scholes formula\n",
    "    \"\"\"\n",
    "    return d1(S0, K, T, r, sigma) - sigma * np.sqrt(T)\n",
    "\n",
    "\n",
    "def d(S0: float, K: float, T: float, r: float, sigma: float) -> float:\n",
    "    \"\"\"\n",
    "    Computes both d1 & d2\n",
    "    \"\"\"\n",
    "    return d1(S0, K, T, r, sigma), d2(S0, K, T, r, sigma)"
   ]
  },
  {
   "cell_type": "code",
   "execution_count": 88,
   "id": "06ece77e",
   "metadata": {},
   "outputs": [],
   "source": [
    "def black_scholes_price(S0: float, K: float, T: float, r: float, sigma: float, option_type: str):\n",
    "    \"\"\"\n",
    "    Price a European option under the Black–Scholes model\n",
    "\n",
    "    Parameters:\n",
    "    -----------\n",
    "    S0: Spot price of the underlying asset.\n",
    "    K: Strike price of the option.\n",
    "    T: Time to maturity (in years).\n",
    "    r: Continuously compounded risk–free interest rate.\n",
    "    sigma: Volatility of the underlying asset.\n",
    "    option_type: Type of option to price: \"call\" or \"put\".\n",
    "\n",
    "    Returns:\n",
    "    --------\n",
    "    float\n",
    "        Option price according to the Black–Scholes formula.\n",
    "\n",
    "    Example:\n",
    "    --------\n",
    "    black_scholes_price(S0=100, K=105, T=1, r=0.05, sigma=0.2, option_type=\"call\")\n",
    "    \"\"\"\n",
    "    d1, d2 = d(S0, K, T, r, sigma)\n",
    "\n",
    "    if option_type.lower() == \"call\":\n",
    "        return S0 * norm.cdf(d1) - K * np.exp(-r * T) * norm.cdf(d2)\n",
    "    \n",
    "    elif option_type.lower() == \"put\":\n",
    "        return K * np.exp(-r * T) * norm.cdf(-d2) - S0 * norm.cdf(-d1)\n",
    "    \n",
    "    else:\n",
    "        raise ValueError(\"option_type must be 'call' or 'put'\")"
   ]
  },
  {
   "cell_type": "code",
   "execution_count": 104,
   "id": "01da908b",
   "metadata": {},
   "outputs": [
    {
     "data": {
      "image/png": "[encoded data removed]",
      "text/plain": [
       "<Figure size 720x360 with 1 Axes>"
      ]
     },
     "metadata": {
      "needs_background": "light"
     },
     "output_type": "display_data"
    }
   ],
   "source": [
    "# Choosing strikes & computing prices\n",
    "strikes = np.linspace(30, 170, 140)\n",
    "prices = [black_scholes_price(S0=100, K=strike, T=1, r=0.05, sigma=0.3, option_type=\"call\") for strike in strikes]\n",
    "\n",
    "plt.figure(figsize=(10, 5))\n",
    "plt.plot(strikes, prices, lw=2.5, color='purple')\n",
    "plt.xlabel(\"Strike\")\n",
    "plt.ylabel(\"Call Price\")\n",
    "plt.title(f\"Call option price as a function of its strike\")\n",
    "plt.grid()\n",
    "plt.show()"
   ]
  },
  {
   "cell_type": "markdown",
   "id": "92e4ea2e",
   "metadata": {},
   "source": [
    "## 4. Asset Price Trajectory Simulation\n",
    "\n",
    "In this section, we simulate trajectories of the underlying asset price under the **Black–Scholes model**.  \n",
    "\n",
    "### Stochastic Differential Equation Approximation\n",
    "\n",
    "To simulate paths numerically, we use the **Euler–Maruyama scheme**, which approximates the SDE over small time steps $\\Delta t$:\n",
    "\n",
    "$$\n",
    "S_{t+\\Delta t} \\approx S_t \\, \\exp\\Big( (r - \\frac{1}{2} \\sigma^2) \\Delta t + \\sigma \\Delta W_t \\Big)\n",
    "$$\n",
    "\n",
    "where $\\Delta W_t \\sim \\mathcal{N}(0, \\Delta t)$ are Gaussian increments.\n",
    "\n",
    "This approximation scheme comes from discretizing the continuous-time stochastic differential equation. The idea is to replace the infinitesimal changes $dt$ and $dW_t$ by small but finite increments $\\Delta t$ and $\\Delta W_t$, then propagate the process step by step."
   ]
  },
  {
   "cell_type": "code",
   "execution_count": null,
   "id": "d7054617",
   "metadata": {},
   "outputs": [],
   "source": [
    "def black_scholes_paths(S0: float, r: float, sigma: float, T: float, n_steps: int, n_paths: int):\n",
    "    \"\"\"\n",
    "    Simulate trajectories of the asset price under the Black-Scholes model using pre-generated Brownian motions.\n",
    "\n",
    "    Parameters:\n",
    "    -----------\n",
    "    S0: float\n",
    "        Initial price of the underlying asset.\n",
    "    r: float\n",
    "        Continuously compounded risk-free interest rate.\n",
    "    sigma: float\n",
    "        Volatility of the underlying asset.\n",
    "    T: float\n",
    "        Time horizon (in years).\n",
    "    n_steps: int\n",
    "        Number of time steps in the simulation.\n",
    "    n_paths: int\n",
    "        Number of simulated paths.\n",
    "\n",
    "    Returns:\n",
    "    --------\n",
    "    np.ndarray\n",
    "        Array of shape (n_paths, n_steps+1) containing simulated asset price paths.\n",
    "        The first column is the initial price S0.\n",
    "    \n",
    "    Example:\n",
    "    --------\n",
    "    paths = black_scholes_paths(S0=100, r=0.05, sigma=0.2, T=1, n_steps=50, n_paths=10)\n",
    "    \"\"\"\n",
    "    paths = np.zeros((n_paths, n_steps + 1))\n",
    "    paths[:, 0] = S0\n",
    "\n",
    "    for i in range(n_paths):\n",
    "        t, W = brownian_motion(T, n_steps)\n",
    "        paths[i, :] = S0 * np.exp((r - 0.5 * sigma**2) * t + sigma * W)\n",
    "\n",
    "    return paths\n"
   ]
  },
  {
   "cell_type": "code",
   "execution_count": null,
   "id": "0e598df1",
   "metadata": {},
   "outputs": [],
   "source": []
  },
  {
   "cell_type": "code",
   "execution_count": null,
   "id": "508d08b7",
   "metadata": {},
   "outputs": [],
   "source": []
  },
  {
   "cell_type": "code",
   "execution_count": null,
   "id": "b8475837",
   "metadata": {},
   "outputs": [],
   "source": []
  },
  {
   "cell_type": "code",
   "execution_count": null,
   "id": "d09a4fa0",
   "metadata": {},
   "outputs": [],
   "source": []
  },
  {
   "cell_type": "code",
   "execution_count": null,
   "id": "1499fd18",
   "metadata": {},
   "outputs": [],
   "source": []
  },
  {
   "cell_type": "code",
   "execution_count": null,
   "id": "abdc590b",
   "metadata": {},
   "outputs": [],
   "source": []
  }
 ],
 "metadata": {
  "kernelspec": {
   "display_name": "Python 3 (ipykernel)",
   "language": "python",
   "name": "python3"
  },
  "language_info": {
   "codemirror_mode": {
    "name": "ipython",
    "version": 3
   },
   "file_extension": ".py",
   "mimetype": "text/x-python",
   "name": "python",
   "nbconvert_exporter": "python",
   "pygments_lexer": "ipython3",
   "version": "3.9.7"
  }
 },
 "nbformat": 4,
 "nbformat_minor": 5
}

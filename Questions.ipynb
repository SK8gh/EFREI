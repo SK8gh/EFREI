{
 "cells": [
  {
   "cell_type": "markdown",
   "id": "d058d281",
   "metadata": {},
   "source": [
    "# Python, NumPy, and Pandas Questions\n",
    "Answer the following questions by writing code in the cells below."
   ]
  },
  {
   "cell_type": "code",
   "execution_count": 1,
   "id": "7e557bf8",
   "metadata": {},
   "outputs": [
    {
     "name": "stderr",
     "output_type": "stream",
     "text": [
      "/Users/miller/opt/anaconda3/lib/python3.9/site-packages/pandas/core/computation/expressions.py:21: UserWarning: Pandas requires version '2.8.0' or newer of 'numexpr' (version '2.7.3' currently installed).\n",
      "  from pandas.core.computation.check import NUMEXPR_INSTALLED\n",
      "/Users/miller/opt/anaconda3/lib/python3.9/site-packages/pandas/core/arrays/masked.py:62: UserWarning: Pandas requires version '1.3.4' or newer of 'bottleneck' (version '1.3.2' currently installed).\n",
      "  from pandas.core import (\n"
     ]
    }
   ],
   "source": [
    "import pandas as pd\n",
    "import numpy as np"
   ]
  },
  {
   "cell_type": "markdown",
   "id": "e2259ced",
   "metadata": {},
   "source": [
    "### Question 1\n",
    "\n",
    "Create a NumPy array from the Python list `[10, 20, 30, 40, 50]`."
   ]
  },
  {
   "cell_type": "code",
   "execution_count": 2,
   "id": "6f9210ce",
   "metadata": {},
   "outputs": [],
   "source": [
    "# Your code here"
   ]
  },
  {
   "cell_type": "markdown",
   "id": "ad2901fb",
   "metadata": {},
   "source": [
    "### Question 2\n",
    "\n",
    "Write a function that accepts any number of positional and keyword arguments and prints them."
   ]
  },
  {
   "cell_type": "code",
   "execution_count": 3,
   "id": "793aca4f",
   "metadata": {},
   "outputs": [],
   "source": [
    "# Your code here"
   ]
  },
  {
   "cell_type": "markdown",
   "id": "e45d366d",
   "metadata": {},
   "source": [
    "### Question 3\n",
    "\n",
    "Round the elements of the array `[3.2, 4.7, 5.5, 6.1]` to the nearest integer."
   ]
  },
  {
   "cell_type": "code",
   "execution_count": 4,
   "id": "0e938efb",
   "metadata": {},
   "outputs": [],
   "source": [
    "# Your code here"
   ]
  },
  {
   "cell_type": "markdown",
   "id": "d67c847a",
   "metadata": {},
   "source": [
    "### Question 4\n",
    "\n",
    "Given `x = 15`, check if `x` is an instance of `int`."
   ]
  },
  {
   "cell_type": "code",
   "execution_count": 5,
   "id": "3a0b0adb",
   "metadata": {},
   "outputs": [],
   "source": [
    "x = 15\n",
    "\n",
    "# Your code here"
   ]
  },
  {
   "cell_type": "markdown",
   "id": "38890416",
   "metadata": {},
   "source": [
    "### Question 5\n",
    "\n",
    "Create a Pandas DataFrame from the dictionary `{'X': [1, 2], 'Y': [3, 4]}` and print its shape."
   ]
  },
  {
   "cell_type": "code",
   "execution_count": 6,
   "id": "17894d7c",
   "metadata": {},
   "outputs": [],
   "source": [
    "# Your code here"
   ]
  },
  {
   "cell_type": "markdown",
   "id": "039b3a47",
   "metadata": {},
   "source": [
    "### Question 6\n",
    "\n",
    "Given the array `arr = np.arange(8)`, extract elements from index 2 to 5 (inclusive of 2, exclusive of 5)."
   ]
  },
  {
   "cell_type": "code",
   "execution_count": 7,
   "id": "4f5fb153",
   "metadata": {},
   "outputs": [],
   "source": [
    "arr = np.arange(8)\n",
    "\n",
    "# Your code here"
   ]
  },
  {
   "cell_type": "markdown",
   "id": "a5d75f17",
   "metadata": {},
   "source": [
    "### Question 7\n",
    "\n",
    "Multiply each element in the NumPy array `[2, 4, 6]` by 5."
   ]
  },
  {
   "cell_type": "code",
   "execution_count": 8,
   "id": "09e978f8",
   "metadata": {},
   "outputs": [],
   "source": [
    "arr = np.array([2, 4, 6])\n",
    "\n",
    "# Your code here"
   ]
  },
  {
   "cell_type": "markdown",
   "id": "bc2e4892",
   "metadata": {},
   "source": [
    "### Question 8\n",
    "\n",
    "Filter the DataFrame `df` to select rows where the column `'X'` is greater than 1."
   ]
  },
  {
   "cell_type": "code",
   "execution_count": 9,
   "id": "5299a696",
   "metadata": {},
   "outputs": [],
   "source": [
    "df = pd.DataFrame({\n",
    "    'X': [0, 1, 2, 3],\n",
    "    'Y': ['a', 'b', 'c', 'd']\n",
    "})\n",
    "\n",
    "# Your code here"
   ]
  },
  {
   "cell_type": "markdown",
   "id": "6c753f73",
   "metadata": {},
   "source": [
    "### Question 9\n",
    "\n",
    "Use a list comprehension to create a list of squares of numbers from 0 to 9."
   ]
  },
  {
   "cell_type": "code",
   "execution_count": 10,
   "id": "4cb8b9c9",
   "metadata": {},
   "outputs": [],
   "source": [
    "# Your code here"
   ]
  },
  {
   "cell_type": "markdown",
   "id": "b06e904c",
   "metadata": {},
   "source": [
    "### Question 10\n",
    "\n",
    "Add a scalar value 7 to the array `[0, 1, 2, 3]` using NumPy broadcasting."
   ]
  },
  {
   "cell_type": "code",
   "execution_count": 11,
   "id": "b852d3c7",
   "metadata": {},
   "outputs": [],
   "source": [
    "arr = np.array([0, 1, 2, 3])\n",
    "\n",
    "# Your code here"
   ]
  },
  {
   "cell_type": "markdown",
   "id": "d7673101",
   "metadata": {},
   "source": [
    "### Question 11\n",
    "\n",
    "Add a new column `'Z'` to the DataFrame `df` which is the sum of columns `'X'` and `'Y'`."
   ]
  },
  {
   "cell_type": "code",
   "execution_count": 12,
   "id": "952e9277",
   "metadata": {},
   "outputs": [],
   "source": [
    "df = pd.DataFrame({\n",
    "    'X': [1, 2, 3],\n",
    "    'Y': [4, 5, 6]\n",
    "})\n",
    "\n",
    "# Your code here"
   ]
  },
  {
   "cell_type": "markdown",
   "id": "5507f55a",
   "metadata": {},
   "source": [
    "### Question 12\n",
    "\n",
    "Write a generator function that yields odd numbers up to 15."
   ]
  },
  {
   "cell_type": "code",
   "execution_count": 13,
   "id": "ffe7a3c0",
   "metadata": {},
   "outputs": [],
   "source": [
    "# Your code here"
   ]
  },
  {
   "cell_type": "markdown",
   "id": "76ef179b",
   "metadata": {},
   "source": [
    "### Question 13\n",
    "\n",
    "Group the DataFrame `df` by column `'X'` and calculate the mean of the other columns."
   ]
  },
  {
   "cell_type": "code",
   "execution_count": 14,
   "id": "6ad6891b",
   "metadata": {},
   "outputs": [],
   "source": [
    "df = pd.DataFrame({\n",
    "    'X': ['A', 'B', 'A', 'B', 'A'],\n",
    "    'Y': [10, 20, 30, 40, 50],\n",
    "    'Z': [5, 15, 25, 35, 45]\n",
    "})\n",
    "\n",
    "# Your code here"
   ]
  },
  {
   "cell_type": "markdown",
   "id": "bb9dcca4",
   "metadata": {},
   "source": [
    "### Question 14\n",
    "\n",
    "Create a class `Car` with attributes `make` and `year` and a method `display` that prints these attributes."
   ]
  },
  {
   "cell_type": "code",
   "execution_count": 15,
   "id": "23b02fbf",
   "metadata": {},
   "outputs": [],
   "source": [
    "# Your code here"
   ]
  },
  {
   "cell_type": "markdown",
   "id": "35342b64",
   "metadata": {},
   "source": [
    "### Question 15\n",
    "\n",
    "Compute the sum, mean, and standard deviation of the array `[10, 20, 30, 40, 50]` using NumPy."
   ]
  },
  {
   "cell_type": "code",
   "execution_count": 16,
   "id": "4f37a46f",
   "metadata": {},
   "outputs": [],
   "source": [
    "arr = np.array([10, 20, 30, 40, 50])\n",
    "\n",
    "# Your code here"
   ]
  },
  {
   "cell_type": "markdown",
   "id": "bfefb748",
   "metadata": {},
   "source": [
    "### Question 16\n",
    "\n",
    "Use `map` and `filter` on the list `[1, 2, 3, 4, 5]` to double each number and keep only the even results."
   ]
  },
  {
   "cell_type": "code",
   "execution_count": 17,
   "id": "809324d3",
   "metadata": {},
   "outputs": [],
   "source": [
    "y = [1, 2, 3, 4, 5]\n",
    "\n",
    "# Your code here"
   ]
  },
  {
   "cell_type": "markdown",
   "id": "3ebcf066",
   "metadata": {},
   "source": [
    "### Question 17\n",
    "\n",
    "Use NumPy to reshape the array `[1, 2, 3, 4, 5, 6]` into a 3x2 matrix."
   ]
  },
  {
   "cell_type": "code",
   "execution_count": 18,
   "id": "a26ac2ce",
   "metadata": {},
   "outputs": [],
   "source": [
    "arr = np.array([1, 2, 3, 4, 5, 6])\n",
    "\n",
    "# Your code here"
   ]
  },
  {
   "cell_type": "markdown",
   "id": "0fba6065",
   "metadata": {},
   "source": [
    "### Question 18\n",
    "\n",
    "Write a try-except block to catch a `ValueError` when converting a string `'abc'` to int, and print \"Conversion error\"."
   ]
  },
  {
   "cell_type": "code",
   "execution_count": 19,
   "id": "7a8ef380",
   "metadata": {},
   "outputs": [],
   "source": [
    "# Your code here"
   ]
  },
  {
   "cell_type": "markdown",
   "id": "1f5c943e",
   "metadata": {},
   "source": [
    "### Question 19\n",
    "\n",
    "Create a mask for the array `[5, 10, 15, 20, 25]` to extract elements greater than 15."
   ]
  },
  {
   "cell_type": "code",
   "execution_count": 20,
   "id": "84477367",
   "metadata": {},
   "outputs": [],
   "source": [
    "arr = np.array([5, 10, 15, 20, 25])\n",
    "\n",
    "# Your code here"
   ]
  },
  {
   "cell_type": "markdown",
   "id": "3df84e8f",
   "metadata": {},
   "source": [
    "### Question 20\n",
    "\n",
    "Merge the two DataFrames `df1` and `df2` on the column `'id'`."
   ]
  },
  {
   "cell_type": "code",
   "execution_count": 21,
   "id": "eabbc78e",
   "metadata": {},
   "outputs": [],
   "source": [
    "df1 = pd.DataFrame({\n",
    "    'id': [1, 2, 3],\n",
    "    'name': ['Alice', 'Bob', 'Charlie']\n",
    "})\n",
    "\n",
    "df2 = pd.DataFrame({\n",
    "    'id': [2, 3, 4],\n",
    "    'age': [25, 30, 35]\n",
    "})\n",
    "\n",
    "# Your code here"
   ]
  },
  {
   "cell_type": "markdown",
   "id": "8defe7b8",
   "metadata": {},
   "source": [
    "### Question 21\n",
    "\n",
    "Write a simple decorator that prints \"Function is called\" before executing the decorated function."
   ]
  },
  {
   "cell_type": "code",
   "execution_count": 22,
   "id": "850d8bca",
   "metadata": {},
   "outputs": [],
   "source": [
    "def function_to_decorate():\n",
    "    print(f\"called: function_to_decorate\")\n",
    "\n",
    "# Your code here"
   ]
  },
  {
   "cell_type": "markdown",
   "id": "c0a20eca",
   "metadata": {},
   "source": [
    "### Question 22\n",
    "\n",
    "Given a sorted array `[1, 4, 6, 8]`, use `searchsorted` to find the index to insert the value 5."
   ]
  },
  {
   "cell_type": "code",
   "execution_count": 23,
   "id": "fd444c55",
   "metadata": {},
   "outputs": [],
   "source": [
    "arr = np.array([1, 4, 6, 8])\n",
    "\n",
    "# Your code here"
   ]
  },
  {
   "cell_type": "markdown",
   "id": "89ec53e4",
   "metadata": {},
   "source": [
    "### Question 23\n",
    "\n",
    "Add type annotations to the function `def multiply(a, b): return a * b` multiplying floats"
   ]
  },
  {
   "cell_type": "code",
   "execution_count": 24,
   "id": "a5e3fd36",
   "metadata": {},
   "outputs": [],
   "source": [
    "# Your code here"
   ]
  }
 ],
 "metadata": {
  "kernelspec": {
   "display_name": "Python 3 (ipykernel)",
   "language": "python",
   "name": "python3"
  },
  "language_info": {
   "codemirror_mode": {
    "name": "ipython",
    "version": 3
   },
   "file_extension": ".py",
   "mimetype": "text/x-python",
   "name": "python",
   "nbconvert_exporter": "python",
   "pygments_lexer": "ipython3",
   "version": "3.9.7"
  }
 },
 "nbformat": 4,
 "nbformat_minor": 5
}
